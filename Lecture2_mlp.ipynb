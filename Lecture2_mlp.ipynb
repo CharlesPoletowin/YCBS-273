{
  "nbformat": 4,
  "nbformat_minor": 0,
  "metadata": {
    "kernelspec": {
      "display_name": "Python 3",
      "language": "python",
      "name": "python3"
    },
    "language_info": {
      "codemirror_mode": {
        "name": "ipython",
        "version": 3
      },
      "file_extension": ".py",
      "mimetype": "text/x-python",
      "name": "python",
      "nbconvert_exporter": "python",
      "pygments_lexer": "ipython3",
      "version": "3.6.6"
    },
    "colab": {
      "name": "Lecture2_mlp.ipynb",
      "version": "0.3.2",
      "provenance": [],
      "collapsed_sections": [
        "QI6mmsdkLGFC",
        "6uTwW_1MPOpc"
      ],
      "include_colab_link": true
    }
  },
  "cells": [
    {
      "cell_type": "markdown",
      "metadata": {
        "id": "view-in-github",
        "colab_type": "text"
      },
      "source": [
        "<a href=\"https://colab.research.google.com/github/CharlesPoletowin/YCBS-273/blob/master/Lecture2_mlp.ipynb\" target=\"_parent\"><img src=\"https://colab.research.google.com/assets/colab-badge.svg\" alt=\"Open In Colab\"/></a>"
      ]
    },
    {
      "cell_type": "code",
      "metadata": {
        "id": "5nE33IvZIEl9",
        "colab_type": "code",
        "colab": {}
      },
      "source": [
        "%matplotlib inline"
      ],
      "execution_count": 0,
      "outputs": []
    },
    {
      "cell_type": "markdown",
      "metadata": {
        "id": "9FxqGMk-IEmC",
        "colab_type": "text"
      },
      "source": [
        "Disclaimer: This notebook is modified from the following notebooks:\n",
        "- https://colab.research.google.com/github/pytorch/tutorials/blob/gh-pages/_downloads/nn_tutorial.ipynb#scrollTo=N29T2vcqOnVU"
      ]
    },
    {
      "cell_type": "markdown",
      "metadata": {
        "id": "F63Ci3TISmJn",
        "colab_type": "text"
      },
      "source": [
        "# End-to-end ML pipeline example"
      ]
    },
    {
      "cell_type": "markdown",
      "metadata": {
        "id": "NozPXG3nTM2C",
        "colab_type": "text"
      },
      "source": [
        "## Data setup\n",
        "\n",
        "We will generate our own data. In particular, we will sample points on a polynomial curve. We will add random noise to the data points in ordeer to make the data realistic."
      ]
    },
    {
      "cell_type": "code",
      "metadata": {
        "id": "24dNDuTWSuOQ",
        "colab_type": "code",
        "colab": {}
      },
      "source": [
        "from matplotlib import pyplot as plt\n",
        "import numpy as np\n",
        "import torch\n",
        "import math"
      ],
      "execution_count": 0,
      "outputs": []
    },
    {
      "cell_type": "code",
      "metadata": {
        "id": "cxde1nFbUZ_s",
        "colab_type": "code",
        "outputId": "18d2d64f-fdc3-44c6-97ee-76d693eabd0a",
        "colab": {
          "base_uri": "https://localhost:8080/",
          "height": 286
        }
      },
      "source": [
        "def f(x):\n",
        "  return (x - 0.2)*(x + 0.3)*(3*x - 1.5) + 10\n",
        "\n",
        "SIZE = 50\n",
        "x = np.linspace(-2, 2, SIZE, np.float32)\n",
        "y = f(x)\n",
        "\n",
        "# add noise\n",
        "y_noise = y + 2 * np.random.randn(SIZE)\n",
        "\n",
        "# data split into training and testing data\n",
        "idx = list(range(SIZE))\n",
        "np.random.shuffle(idx)\n",
        "\n",
        "x_train = x[idx][:40]\n",
        "y_train = y_noise[idx][:40]\n",
        "\n",
        "x_test = x[idx][40:]\n",
        "y_test = y[idx][40:]\n",
        "\n",
        "# plot train and test points\n",
        "plt.plot(x_train, y_train, 'o')\n",
        "plt.plot(x_test, y_test, 'ro')\n",
        "plt.plot(x, y, 'k-')\n",
        "plt.legend(['Training data', 'Test data', 'Underlying phenomenon'])"
      ],
      "execution_count": 0,
      "outputs": [
        {
          "output_type": "execute_result",
          "data": {
            "text/plain": [
              "<matplotlib.legend.Legend at 0x7f020657d550>"
            ]
          },
          "metadata": {
            "tags": []
          },
          "execution_count": 12
        },
        {
          "output_type": "display_data",
          "data": {
            "image/png": "[encoded data removed]",
            "text/plain": [
              "<Figure size 432x288 with 1 Axes>"
            ]
          },
          "metadata": {
            "tags": []
          }
        }
      ]
    },
    {
      "cell_type": "markdown",
      "metadata": {
        "id": "HQ6dMU7_OnT6",
        "colab_type": "text"
      },
      "source": [
        "PyTorch uses ``torch.tensor``, rather than numpy arrays, so we need to\n",
        "convert our data.\n",
        "\n"
      ]
    },
    {
      "cell_type": "code",
      "metadata": {
        "id": "vMFrWE5VOnT6",
        "colab_type": "code",
        "colab": {}
      },
      "source": [
        "x_train, y_train, x_test, y_test = map(\n",
        "    torch.FloatTensor, (x_train[:, np.newaxis], y_train[:, np.newaxis], x_test[:, np.newaxis], y_test[:, np.newaxis])\n",
        ")\n",
        "n, _ = x_train.shape"
      ],
      "execution_count": 0,
      "outputs": []
    },
    {
      "cell_type": "markdown",
      "metadata": {
        "colab_type": "text",
        "id": "QI6mmsdkLGFC"
      },
      "source": [
        "## Loss function"
      ]
    },
    {
      "cell_type": "code",
      "metadata": {
        "id": "4xMbpRMDUR92",
        "colab_type": "code",
        "colab": {}
      },
      "source": [
        "def mse(inp, target):\n",
        "  return torch.mean((inp - target)**2)\n",
        "  \n",
        "loss_func = mse"
      ],
      "execution_count": 0,
      "outputs": []
    },
    {
      "cell_type": "markdown",
      "metadata": {
        "colab_type": "text",
        "id": "-CN1LxWSLLnf"
      },
      "source": [
        "### Using torch.nn.functional\n",
        "\n",
        "We will now refactor our code, so that it does the same thing as before, only\n",
        "we'll start taking advantage of PyTorch's ``nn`` classes to make it more concise\n",
        "and flexible. At each step from here, we should be making our code one or more\n",
        "of: shorter, more understandable, and/or more flexible.\n",
        "\n",
        "The first and easiest step is to make our code shorter by replacing our\n",
        "hand-written activation and loss functions with those from ``torch.nn.functional``\n",
        "(which is generally imported into the namespace ``F`` by convention). This module\n",
        "contains all the functions in the ``torch.nn`` library (whereas other parts of the\n",
        "library contain classes). As well as a wide range of loss and activation\n",
        "functions, you'll also find here some convenient functions for creating neural\n",
        "nets, such as pooling functions. (There are also functions for doing convolutions,\n",
        "linear layers, etc, but as we'll see, these are usually better handled using\n",
        "other parts of the library.)"
      ]
    },
    {
      "cell_type": "code",
      "metadata": {
        "colab_type": "code",
        "id": "yB2jostpLLng",
        "colab": {}
      },
      "source": [
        "import torch.nn.functional as F\n",
        "\n",
        "loss_func = F.mse_loss"
      ],
      "execution_count": 0,
      "outputs": []
    },
    {
      "cell_type": "markdown",
      "metadata": {
        "id": "Ox_TeIdHUshf",
        "colab_type": "text"
      },
      "source": [
        "## Model definition"
      ]
    },
    {
      "cell_type": "code",
      "metadata": {
        "id": "nVwYBgGSTZVe",
        "colab_type": "code",
        "colab": {}
      },
      "source": [
        "class Mnist_mlp_classifier():\n",
        "  def __init__(self):\n",
        "    self.weights_1 = torch.randn(1, 800)\n",
        "    self.weights_1.requires_grad_()\n",
        "    self.bias_1 = torch.zeros(1, requires_grad=True)\n",
        "\n",
        "    self.weights_2 = torch.randn(800, 1)\n",
        "    self.weights_2.requires_grad_()\n",
        "    self.bias_2 = torch.zeros(1, requires_grad=True)\n",
        "  \n",
        "  def forward(self, xb):\n",
        "    h =  xb.matmul(self.weights_1) + self.bias_1\n",
        "    h = F.tanh(h)\n",
        "    h =  h.matmul(self.weights_2) + self.bias_2\n",
        "    out = h\n",
        "    return out"
      ],
      "execution_count": 0,
      "outputs": []
    },
    {
      "cell_type": "markdown",
      "metadata": {
        "id": "0H2FqBORAotb",
        "colab_type": "text"
      },
      "source": [
        "### Refactor using nn.Module\n",
        "Next up, we'll use ``nn.Module`` and ``nn.Parameter``, for a clearer and more\n",
        "concise training loop. We subclass ``nn.Module`` (which itself is a class and\n",
        "able to keep track of state).  In this case, we want to create a class that\n",
        "holds our weights, bias, and method for the forward step.  ``nn.Module`` has a\n",
        "number of attributes and methods (such as ``.parameters()`` and ``.zero_grad()``)\n",
        "which we will be using."
      ]
    },
    {
      "cell_type": "code",
      "metadata": {
        "id": "9JK3hV6uAiaK",
        "colab_type": "code",
        "colab": {}
      },
      "source": [
        "from torch import nn\n",
        "\n",
        "class Mnist_mlp_classifier(nn.Module):\n",
        "  def __init__(self):\n",
        "      super().__init__()\n",
        "      self.weights_1 = nn.Parameter(torch.randn(1, 800) / math.sqrt(1))\n",
        "      self.bias_1 = nn.Parameter(torch.zeros(800))\n",
        "      \n",
        "      self.weights_2 = nn.Parameter(torch.randn(800, 1) / math.sqrt(784))\n",
        "      self.bias_2 = nn.Parameter(torch.zeros(1))\n",
        "\n",
        "  def forward(self, xb):\n",
        "    h =  xb.matmul(self.weights_1) + self.bias_1\n",
        "    h = F.tanh(h)\n",
        "    h =  h.matmul(self.weights_2) + self.bias_2\n",
        "    out = h\n",
        "    return out"
      ],
      "execution_count": 0,
      "outputs": []
    },
    {
      "cell_type": "code",
      "metadata": {
        "id": "ZZ-yAitFArg-",
        "colab_type": "code",
        "outputId": "cbc1800c-c2d8-4b8a-a919-4780c4711016",
        "colab": {
          "base_uri": "https://localhost:8080/",
          "height": 134
        }
      },
      "source": [
        "model = Mnist_mlp_classifier()\n",
        "print('===========\\nParameters shape\\n===========')\n",
        "for p in model.parameters():\n",
        "  print(p.shape)"
      ],
      "execution_count": 0,
      "outputs": [
        {
          "output_type": "stream",
          "text": [
            "===========\n",
            "Parameters shape\n",
            "===========\n",
            "torch.Size([1, 800])\n",
            "torch.Size([800])\n",
            "torch.Size([800, 1])\n",
            "torch.Size([1])\n"
          ],
          "name": "stdout"
        }
      ]
    },
    {
      "cell_type": "markdown",
      "metadata": {
        "id": "Or3E7_h4Brvl",
        "colab_type": "text"
      },
      "source": [
        "### Refactor using nn.Linear\n",
        "\n",
        "We continue to refactor our code.  Instead of manually defining and\n",
        "initializing ``self.weights`` and ``self.bias``, and calculating ``xb  @\n",
        "self.weights + self.bias``, we will instead use the Pytorch class\n",
        "`nn.Linear <https://pytorch.org/docs/stable/nn.html#linear-layers>`_ for a\n",
        "linear layer, which does all that for us. Pytorch has many types of\n",
        "predefined layers that can greatly simplify our code, and often makes it\n",
        "faster too."
      ]
    },
    {
      "cell_type": "code",
      "metadata": {
        "id": "lQCOFCZRBvt1",
        "colab_type": "code",
        "colab": {}
      },
      "source": [
        "class Mnist_mlp_classifier(nn.Module):\n",
        "  def __init__(self):\n",
        "    super().__init__()\n",
        "    self.layer1 = nn.Linear(1, 800)\n",
        "    self.layer2 = nn.Linear(800, 1)\n",
        "\n",
        "  def forward(self, xb):\n",
        "    h =  self.layer1(xb)\n",
        "    h = F.tanh(h)\n",
        "    h =  self.layer2(h)\n",
        "    out = h\n",
        "    return out"
      ],
      "execution_count": 0,
      "outputs": []
    },
    {
      "cell_type": "code",
      "metadata": {
        "id": "HVuGZlRgCLX9",
        "colab_type": "code",
        "outputId": "3ef3cb48-36f0-4f13-be51-d4f266d534af",
        "colab": {
          "base_uri": "https://localhost:8080/",
          "height": 134
        }
      },
      "source": [
        "model = Mnist_mlp_classifier()\n",
        "print('===========\\nParameters shape\\n===========')\n",
        "for p in model.parameters():\n",
        "  print(p.shape)"
      ],
      "execution_count": 0,
      "outputs": [
        {
          "output_type": "stream",
          "text": [
            "===========\n",
            "Parameters shape\n",
            "===========\n",
            "torch.Size([800, 1])\n",
            "torch.Size([800])\n",
            "torch.Size([1, 800])\n",
            "torch.Size([1])\n"
          ],
          "name": "stdout"
        }
      ]
    },
    {
      "cell_type": "markdown",
      "metadata": {
        "id": "dIMHNv8PGbpD",
        "colab_type": "text"
      },
      "source": [
        "## Training"
      ]
    },
    {
      "cell_type": "code",
      "metadata": {
        "id": "9xv5ANwkE_ZQ",
        "colab_type": "code",
        "colab": {}
      },
      "source": [
        "lr = 0.001  # learning rate\n",
        "epochs = 250  # how many epochs to train for\n",
        "bs = 10  # batch size\n",
        "\n",
        "model = Mnist_mlp_classifier()\n",
        "\n",
        "y_pred = model.forward(x_test)\n",
        "print('Test error of model after training: ', loss_func(y_pred, y_test))\n",
        "\n",
        "for epoch in range(epochs):\n",
        "  for i in range((n - 1) // bs + 1):\n",
        "    start_i = i * bs\n",
        "    end_i = start_i + bs\n",
        "    xb = x_train[start_i:end_i]\n",
        "    yb = y_train[start_i:end_i]\n",
        "    pred = model(xb)\n",
        "    loss = loss_func(pred, yb)\n",
        "    \n",
        "    loss.backward()\n",
        "    with torch.no_grad():\n",
        "      for p in model.parameters():\n",
        "        p -= p.grad * lr\n",
        "      model.zero_grad()\n",
        "      \n",
        "  print('Loss at epoch %d : %f' % (epoch, loss))\n",
        "\n",
        "y_pred = model(x_test)\n",
        "print('Test error of model after training: ', loss_func(y_pred, y_test))"
      ],
      "execution_count": 0,
      "outputs": []
    },
    {
      "cell_type": "markdown",
      "metadata": {
        "id": "cBccBOAKEE2_",
        "colab_type": "text"
      },
      "source": [
        "### Refactor using Dataset and DataLoader\n",
        "\n",
        "The Dataset and DataLoader classes provide us with a convinient way of batching and iterating through out datasets."
      ]
    },
    {
      "cell_type": "code",
      "metadata": {
        "id": "Je0c6ybiEf2z",
        "colab_type": "code",
        "colab": {}
      },
      "source": [
        "from torch.utils.data import TensorDataset\n",
        "from torch.utils.data import DataLoader\n",
        "\n",
        "lr = 0.001  # learning rate\n",
        "epochs = 250  # how many epochs to train for\n",
        "bs = 10  # batch size\n",
        "\n",
        "train_dataset = TensorDataset(x_train, y_train)\n",
        "train_data_loader = DataLoader(train_dataset, batch_size=bs)\n",
        "\n",
        "model = Mnist_mlp_classifier()\n",
        "\n",
        "y_pred = model.forward(x_test)\n",
        "print('Test error of model after training: ', loss_func(y_pred, y_test))\n",
        "\n",
        "for epoch in range(epochs):\n",
        "  for xb, yb in train_data_loader:\n",
        "    \n",
        "    pred = model(xb)\n",
        "    loss = loss_func(pred, yb)\n",
        "    \n",
        "    loss.backward()\n",
        "    with torch.no_grad():\n",
        "      for p in model.parameters():\n",
        "        p -= p.grad * lr\n",
        "      model.zero_grad()\n",
        "      \n",
        "  print('Loss at epoch %d : %f' % (epoch, loss))\n",
        "\n",
        "y_pred = model(x_test)\n",
        "print('Test error of model after training: ', loss_func(y_pred, y_test))"
      ],
      "execution_count": 0,
      "outputs": []
    },
    {
      "cell_type": "markdown",
      "metadata": {
        "id": "0lXEi_9G34xG",
        "colab_type": "text"
      },
      "source": [
        "### Refactor using optim\n",
        "------------------------------\n",
        "\n",
        "Pytorch also has a package with various optimization algorithms, ``torch.optim``.\n",
        "We can use the ``step`` method from our optimizer to take a forward step, instead\n",
        "of manually updating each parameter.\n",
        "\n",
        "This will let us replace our previous manually coded optimization step:\n",
        "::\n",
        "  with torch.no_grad():\n",
        "      for p in model.parameters(): p -= p.grad * lr\n",
        "      model.zero_grad()\n",
        "\n",
        "and instead use just:\n",
        "::\n",
        "  opt.step()\n",
        "  opt.zero_grad()\n",
        "\n",
        "(``optim.zero_grad()`` resets the gradient to 0 and we need to call it before\n",
        "computing the gradient for the next minibatch.)\n",
        "\n"
      ]
    },
    {
      "cell_type": "code",
      "metadata": {
        "id": "M6IWQmfyUyLy",
        "colab_type": "code",
        "colab": {}
      },
      "source": [
        "from torch import optim\n",
        "from torch.utils.data import TensorDataset\n",
        "from torch.utils.data import DataLoader\n",
        "\n",
        "lr = 0.001  # learning rate\n",
        "epochs = 250  # how many epochs to train for\n",
        "bs = 10  # batch size\n",
        "\n",
        "train_dataset = TensorDataset(x_train, y_train)\n",
        "train_data_loader = DataLoader(train_dataset, batch_size=bs)\n",
        "\n",
        "model = Mnist_mlp_classifier()\n",
        "optimizer = optim.SGD(model.parameters(), lr=lr)\n",
        "\n",
        "y_pred = model.forward(x_test)\n",
        "print('Test error of model after training: ', loss_func(y_pred, y_test))\n",
        "\n",
        "for epoch in range(epochs):\n",
        "  for xb, yb in train_data_loader:\n",
        "    \n",
        "    pred = model.forward(xb)\n",
        "    loss = loss_func(pred, yb)\n",
        "    \n",
        "    loss.backward()\n",
        "    optimizer.step()\n",
        "    optimizer.zero_grad()\n",
        "      \n",
        "  print('Loss at epoch %d : %f' % (epoch, loss))\n",
        "\n",
        "y_pred = model.forward(x_test)\n",
        "print('Test error of model after training: ', loss_func(y_pred, y_test))"
      ],
      "execution_count": 0,
      "outputs": []
    },
    {
      "cell_type": "markdown",
      "metadata": {
        "id": "6uTwW_1MPOpc",
        "colab_type": "text"
      },
      "source": [
        "## Visualizing the trained model "
      ]
    },
    {
      "cell_type": "code",
      "metadata": {
        "id": "KCglmDQ_N2Fg",
        "colab_type": "code",
        "outputId": "67ec40e9-5ea0-40a7-c2e3-19de8e344ebb",
        "colab": {
          "base_uri": "https://localhost:8080/",
          "height": 319
        }
      },
      "source": [
        "x = torch.linspace(-2, 2, 50).unsqueeze(1)\n",
        "y_ = model.forward(x)\n",
        "y = f(x)\n",
        "plt.plot(x_train.numpy(), y_train.detach().numpy(), 'o')\n",
        "plt.plot(x_test.numpy(), y_test.detach().numpy(), 'ro')\n",
        "plt.plot(x.numpy(), y.detach().numpy(), 'k-')\n",
        "plt.plot(x.numpy(), y_.detach().numpy(), 'b-')\n",
        "plt.legend(['Training data', 'Test data', 'Predicted function', 'True function'])"
      ],
      "execution_count": 0,
      "outputs": [
        {
          "output_type": "stream",
          "text": [
            "/usr/local/lib/python3.6/dist-packages/torch/nn/functional.py:1374: UserWarning: nn.functional.tanh is deprecated. Use torch.tanh instead.\n",
            "  warnings.warn(\"nn.functional.tanh is deprecated. Use torch.tanh instead.\")\n"
          ],
          "name": "stderr"
        },
        {
          "output_type": "execute_result",
          "data": {
            "text/plain": [
              "<matplotlib.legend.Legend at 0x7fafd53538d0>"
            ]
          },
          "metadata": {
            "tags": []
          },
          "execution_count": 41
        },
        {
          "output_type": "display_data",
          "data": {
            "image/png": "[encoded data removed]",
            "text/plain": [
              "<Figure size 432x288 with 1 Axes>"
            ]
          },
          "metadata": {
            "tags": []
          }
        }
      ]
    },
    {
      "cell_type": "markdown",
      "metadata": {
        "id": "ngWMzHmBGprA",
        "colab_type": "text"
      },
      "source": [
        "# Whole code in one place"
      ]
    },
    {
      "cell_type": "code",
      "metadata": {
        "id": "DEJu7cX-Gsy7",
        "colab_type": "code",
        "outputId": "fa5e235a-1d6e-4b69-9735-e7b012cac5bd",
        "colab": {
          "base_uri": "https://localhost:8080/",
          "height": 1000
        }
      },
      "source": [
        "from matplotlib import pyplot as plt\n",
        "import math\n",
        "import numpy as np\n",
        "import torch\n",
        "from torch import nn\n",
        "import torch.nn.functional as F\n",
        "from torch import optim\n",
        "from torch.utils.data import TensorDataset\n",
        "from torch.utils.data import DataLoader\n",
        "\n",
        "# params\n",
        "lr = 0.001  # learning rate\n",
        "epochs = 250  # how many epochs to train for\n",
        "bs = 10  # batch size\n",
        "\n",
        "# data processing\n",
        "def f(x):\n",
        "  return (x - 0.2)*(x + 0.3)*(3*x - 1.5) + 10\n",
        "\n",
        "SIZE = 50\n",
        "x = np.linspace(-2, 2, SIZE, np.float32)\n",
        "y = f(x)\n",
        "\n",
        "y_noise = y + 2 * np.random.randn(SIZE)\n",
        "\n",
        "idx = list(range(SIZE))\n",
        "np.random.shuffle(idx)\n",
        "\n",
        "x_train, y_train, x_test, y_test = x[idx][:40], y_noise[idx][:40], x[idx][40:], y_noise[idx][40:]\n",
        "\n",
        "x_train, y_train, x_test, y_test = map(\n",
        "    torch.FloatTensor, (x_train[:, np.newaxis], y_train[:, np.newaxis], x_test[:, np.newaxis], y_test[:, np.newaxis])\n",
        ")\n",
        "n, _ = x_train.shape\n",
        "\n",
        "train_dataset = TensorDataset(x_train, y_train)\n",
        "train_data_loader = DataLoader(train_dataset, batch_size=bs)\n",
        "\n",
        "# model definition\n",
        "class mlp_regreessor(nn.Module):\n",
        "  def __init__(self):\n",
        "    super().__init__()\n",
        "    self.layer1 = nn.Linear(1, 800)\n",
        "    self.layer2 = nn.Linear(800, 1)\n",
        "\n",
        "  def forward(self, xb):\n",
        "    h =  self.layer1(xb)\n",
        "    h = F.relu(h)\n",
        "    h =  self.layer2(h)\n",
        "    out = h\n",
        "    return out\n",
        "  \n",
        "model = mlp_regreessor()\n",
        "\n",
        "# loss function\n",
        "loss_func = F.mse_loss\n",
        "\n",
        "# optimizer\n",
        "optimizer = optim.SGD(model.parameters(), lr=lr)\n",
        "\n",
        "# training loop\n",
        "for epoch in range(epochs):\n",
        "  for xb, yb in train_data_loader:\n",
        "    \n",
        "    pred = model.forward(xb)\n",
        "    loss = loss_func(pred, yb)\n",
        "    \n",
        "    loss.backward()\n",
        "    optimizer.step()\n",
        "    optimizer.zero_grad()\n",
        "      \n",
        "  print('Loss at epoch %d : %f' % (epoch, loss))\n",
        "\n",
        "# model evaluation\n",
        "y_pred = model.forward(x_test)\n",
        "print('Test error of model after training: ', loss_func(y_pred, y_test))"
      ],
      "execution_count": 0,
      "outputs": [
        {
          "output_type": "stream",
          "text": [
            "Loss at epoch 0 : 29.780958\n",
            "Loss at epoch 1 : 19.800341\n",
            "Loss at epoch 2 : 18.759584\n",
            "Loss at epoch 3 : 17.916088\n",
            "Loss at epoch 4 : 16.934116\n",
            "Loss at epoch 5 : 15.963359\n",
            "Loss at epoch 6 : 15.069337\n",
            "Loss at epoch 7 : 14.266337\n",
            "Loss at epoch 8 : 13.550096\n",
            "Loss at epoch 9 : 12.911761\n",
            "Loss at epoch 10 : 12.342286\n",
            "Loss at epoch 11 : 11.832714\n",
            "Loss at epoch 12 : 11.375507\n",
            "Loss at epoch 13 : 10.964307\n",
            "Loss at epoch 14 : 10.593369\n",
            "Loss at epoch 15 : 10.257432\n",
            "Loss at epoch 16 : 9.952083\n",
            "Loss at epoch 17 : 9.673658\n",
            "Loss at epoch 18 : 9.418772\n",
            "Loss at epoch 19 : 9.184479\n",
            "Loss at epoch 20 : 8.968196\n",
            "Loss at epoch 21 : 8.768126\n",
            "Loss at epoch 22 : 8.582006\n",
            "Loss at epoch 23 : 8.408387\n",
            "Loss at epoch 24 : 8.245583\n",
            "Loss at epoch 25 : 8.092406\n",
            "Loss at epoch 26 : 7.947877\n",
            "Loss at epoch 27 : 7.811456\n",
            "Loss at epoch 28 : 7.681782\n",
            "Loss at epoch 29 : 7.558469\n",
            "Loss at epoch 30 : 7.440487\n",
            "Loss at epoch 31 : 7.328116\n",
            "Loss at epoch 32 : 7.220215\n",
            "Loss at epoch 33 : 7.116581\n",
            "Loss at epoch 34 : 7.016252\n",
            "Loss at epoch 35 : 6.920163\n",
            "Loss at epoch 36 : 6.826826\n",
            "Loss at epoch 37 : 6.736948\n",
            "Loss at epoch 38 : 6.649662\n",
            "Loss at epoch 39 : 6.564893\n",
            "Loss at epoch 40 : 6.482803\n",
            "Loss at epoch 41 : 6.403089\n",
            "Loss at epoch 42 : 6.325577\n",
            "Loss at epoch 43 : 6.250113\n",
            "Loss at epoch 44 : 6.176798\n",
            "Loss at epoch 45 : 6.105335\n",
            "Loss at epoch 46 : 6.035367\n",
            "Loss at epoch 47 : 5.967834\n",
            "Loss at epoch 48 : 5.901580\n",
            "Loss at epoch 49 : 5.836953\n",
            "Loss at epoch 50 : 5.773876\n",
            "Loss at epoch 51 : 5.712623\n",
            "Loss at epoch 52 : 5.652291\n",
            "Loss at epoch 53 : 5.594198\n",
            "Loss at epoch 54 : 5.536953\n",
            "Loss at epoch 55 : 5.481160\n",
            "Loss at epoch 56 : 5.426959\n",
            "Loss at epoch 57 : 5.374154\n",
            "Loss at epoch 58 : 5.321644\n",
            "Loss at epoch 59 : 5.271254\n",
            "Loss at epoch 60 : 5.222122\n",
            "Loss at epoch 61 : 5.174407\n",
            "Loss at epoch 62 : 5.126967\n",
            "Loss at epoch 63 : 5.081183\n",
            "Loss at epoch 64 : 5.036409\n",
            "Loss at epoch 65 : 4.993018\n",
            "Loss at epoch 66 : 4.949723\n",
            "Loss at epoch 67 : 4.908062\n",
            "Loss at epoch 68 : 4.867614\n",
            "Loss at epoch 69 : 4.828501\n",
            "Loss at epoch 70 : 4.789434\n",
            "Loss at epoch 71 : 4.751831\n",
            "Loss at epoch 72 : 4.714987\n",
            "Loss at epoch 73 : 4.679580\n",
            "Loss at epoch 74 : 4.644412\n",
            "Loss at epoch 75 : 4.610104\n",
            "Loss at epoch 76 : 4.577169\n",
            "Loss at epoch 77 : 4.545063\n",
            "Loss at epoch 78 : 4.513444\n",
            "Loss at epoch 79 : 4.482517\n",
            "Loss at epoch 80 : 4.452730\n",
            "Loss at epoch 81 : 4.423747\n",
            "Loss at epoch 82 : 4.395440\n",
            "Loss at epoch 83 : 4.367467\n",
            "Loss at epoch 84 : 4.340501\n",
            "Loss at epoch 85 : 4.314668\n",
            "Loss at epoch 86 : 4.289415\n",
            "Loss at epoch 87 : 4.264249\n",
            "Loss at epoch 88 : 4.240199\n",
            "Loss at epoch 89 : 4.216689\n",
            "Loss at epoch 90 : 4.194174\n",
            "Loss at epoch 91 : 4.171754\n",
            "Loss at epoch 92 : 4.149967\n",
            "Loss at epoch 93 : 4.129088\n",
            "Loss at epoch 94 : 4.108900\n",
            "Loss at epoch 95 : 4.089204\n",
            "Loss at epoch 96 : 4.069374\n",
            "Loss at epoch 97 : 4.050953\n",
            "Loss at epoch 98 : 4.032693\n",
            "Loss at epoch 99 : 4.015263\n",
            "Loss at epoch 100 : 3.998115\n",
            "Loss at epoch 101 : 3.981609\n",
            "Loss at epoch 102 : 3.965480\n",
            "Loss at epoch 103 : 3.950019\n",
            "Loss at epoch 104 : 3.935272\n",
            "Loss at epoch 105 : 3.920456\n",
            "Loss at epoch 106 : 3.906137\n",
            "Loss at epoch 107 : 3.892546\n",
            "Loss at epoch 108 : 3.879589\n",
            "Loss at epoch 109 : 3.866922\n",
            "Loss at epoch 110 : 3.854149\n",
            "Loss at epoch 111 : 3.842248\n",
            "Loss at epoch 112 : 3.830676\n",
            "Loss at epoch 113 : 3.819589\n",
            "Loss at epoch 114 : 3.808879\n",
            "Loss at epoch 115 : 3.798200\n",
            "Loss at epoch 116 : 3.787684\n",
            "Loss at epoch 117 : 3.778183\n",
            "Loss at epoch 118 : 3.768711\n",
            "Loss at epoch 119 : 3.759929\n",
            "Loss at epoch 120 : 3.750906\n",
            "Loss at epoch 121 : 3.742238\n",
            "Loss at epoch 122 : 3.734147\n",
            "Loss at epoch 123 : 3.726303\n",
            "Loss at epoch 124 : 3.719020\n",
            "Loss at epoch 125 : 3.711676\n",
            "Loss at epoch 126 : 3.704486\n",
            "Loss at epoch 127 : 3.697525\n",
            "Loss at epoch 128 : 3.691053\n",
            "Loss at epoch 129 : 3.685045\n",
            "Loss at epoch 130 : 3.679095\n",
            "Loss at epoch 131 : 3.673056\n",
            "Loss at epoch 132 : 3.667308\n",
            "Loss at epoch 133 : 3.661986\n",
            "Loss at epoch 134 : 3.657002\n",
            "Loss at epoch 135 : 3.652229\n",
            "Loss at epoch 136 : 3.647600\n",
            "Loss at epoch 137 : 3.642737\n",
            "Loss at epoch 138 : 3.638322\n",
            "Loss at epoch 139 : 3.634420\n",
            "Loss at epoch 140 : 3.630449\n",
            "Loss at epoch 141 : 3.627030\n",
            "Loss at epoch 142 : 3.623500\n",
            "Loss at epoch 143 : 3.619750\n",
            "Loss at epoch 144 : 3.616405\n",
            "Loss at epoch 145 : 3.613522\n",
            "Loss at epoch 146 : 3.610740\n",
            "Loss at epoch 147 : 3.608278\n",
            "Loss at epoch 148 : 3.605757\n",
            "Loss at epoch 149 : 3.603007\n",
            "Loss at epoch 150 : 3.600814\n",
            "Loss at epoch 151 : 3.598615\n",
            "Loss at epoch 152 : 3.596784\n",
            "Loss at epoch 153 : 3.595013\n",
            "Loss at epoch 154 : 3.593405\n",
            "Loss at epoch 155 : 3.591630\n",
            "Loss at epoch 156 : 3.590282\n",
            "Loss at epoch 157 : 3.588776\n",
            "Loss at epoch 158 : 3.587618\n",
            "Loss at epoch 159 : 3.586648\n",
            "Loss at epoch 160 : 3.585784\n",
            "Loss at epoch 161 : 3.584768\n",
            "Loss at epoch 162 : 3.583773\n",
            "Loss at epoch 163 : 3.582954\n",
            "Loss at epoch 164 : 3.582120\n",
            "Loss at epoch 165 : 3.581658\n",
            "Loss at epoch 166 : 3.581266\n",
            "Loss at epoch 167 : 3.580975\n",
            "Loss at epoch 168 : 3.580768\n",
            "Loss at epoch 169 : 3.580269\n",
            "Loss at epoch 170 : 3.580317\n",
            "Loss at epoch 171 : 3.579981\n",
            "Loss at epoch 172 : 3.579997\n",
            "Loss at epoch 173 : 3.580190\n",
            "Loss at epoch 174 : 3.580391\n",
            "Loss at epoch 175 : 3.580384\n",
            "Loss at epoch 176 : 3.580423\n",
            "Loss at epoch 177 : 3.580673\n",
            "Loss at epoch 178 : 3.580712\n",
            "Loss at epoch 179 : 3.581065\n",
            "Loss at epoch 180 : 3.581427\n",
            "Loss at epoch 181 : 3.582078\n",
            "Loss at epoch 182 : 3.582631\n",
            "Loss at epoch 183 : 3.583100\n",
            "Loss at epoch 184 : 3.583377\n",
            "Loss at epoch 185 : 3.584144\n",
            "Loss at epoch 186 : 3.584496\n",
            "Loss at epoch 187 : 3.585348\n",
            "Loss at epoch 188 : 3.586016\n",
            "Loss at epoch 189 : 3.586811\n",
            "Loss at epoch 190 : 3.587601\n",
            "Loss at epoch 191 : 3.588326\n",
            "Loss at epoch 192 : 3.588979\n",
            "Loss at epoch 193 : 3.589696\n",
            "Loss at epoch 194 : 3.590372\n",
            "Loss at epoch 195 : 3.591363\n",
            "Loss at epoch 196 : 3.592242\n",
            "Loss at epoch 197 : 3.593216\n",
            "Loss at epoch 198 : 3.594183\n",
            "Loss at epoch 199 : 3.595080\n",
            "Loss at epoch 200 : 3.595860\n",
            "Loss at epoch 201 : 3.596851\n",
            "Loss at epoch 202 : 3.597693\n",
            "Loss at epoch 203 : 3.598655\n",
            "Loss at epoch 204 : 3.599714\n",
            "Loss at epoch 205 : 3.600704\n",
            "Loss at epoch 206 : 3.601728\n",
            "Loss at epoch 207 : 3.602771\n",
            "Loss at epoch 208 : 3.603753\n",
            "Loss at epoch 209 : 3.604653\n",
            "Loss at epoch 210 : 3.605731\n",
            "Loss at epoch 211 : 3.606671\n",
            "Loss at epoch 212 : 3.607663\n",
            "Loss at epoch 213 : 3.608805\n",
            "Loss at epoch 214 : 3.609809\n",
            "Loss at epoch 215 : 3.610845\n",
            "Loss at epoch 216 : 3.611949\n",
            "Loss at epoch 217 : 3.612906\n",
            "Loss at epoch 218 : 3.613903\n",
            "Loss at epoch 219 : 3.614809\n",
            "Loss at epoch 220 : 3.615962\n",
            "Loss at epoch 221 : 3.616690\n",
            "Loss at epoch 222 : 3.617786\n",
            "Loss at epoch 223 : 3.618933\n",
            "Loss at epoch 224 : 3.619790\n",
            "Loss at epoch 225 : 3.620829\n",
            "Loss at epoch 226 : 3.621880\n",
            "Loss at epoch 227 : 3.622802\n",
            "Loss at epoch 228 : 3.623708\n",
            "Loss at epoch 229 : 3.624613\n",
            "Loss at epoch 230 : 3.625759\n",
            "Loss at epoch 231 : 3.626451\n",
            "Loss at epoch 232 : 3.627521\n",
            "Loss at epoch 233 : 3.628442\n",
            "Loss at epoch 234 : 3.629358\n",
            "Loss at epoch 235 : 3.630346\n",
            "Loss at epoch 236 : 3.631344\n",
            "Loss at epoch 237 : 3.632181\n",
            "Loss at epoch 238 : 3.633100\n",
            "Loss at epoch 239 : 3.633887\n",
            "Loss at epoch 240 : 3.634781\n",
            "Loss at epoch 241 : 3.635680\n",
            "Loss at epoch 242 : 3.636304\n",
            "Loss at epoch 243 : 3.637285\n",
            "Loss at epoch 244 : 3.638148\n",
            "Loss at epoch 245 : 3.638854\n",
            "Loss at epoch 246 : 3.639792\n",
            "Loss at epoch 247 : 3.640703\n",
            "Loss at epoch 248 : 3.641461\n",
            "Loss at epoch 249 : 3.642267\n",
            "Test error of model after training:  tensor(4.8146, grad_fn=<MseLossBackward>)\n"
          ],
          "name": "stdout"
        }
      ]
    },
    {
      "cell_type": "code",
      "metadata": {
        "id": "IvFAD7aWLhy-",
        "colab_type": "code",
        "colab": {}
      },
      "source": [
        ""
      ],
      "execution_count": 0,
      "outputs": []
    }
  ]
}