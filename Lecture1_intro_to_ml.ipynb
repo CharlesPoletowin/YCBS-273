{
  "nbformat": 4,
  "nbformat_minor": 0,
  "metadata": {
    "kernelspec": {
      "name": "python3",
      "display_name": "Python 3"
    },
    "language_info": {
      "codemirror_mode": {
        "name": "ipython",
        "version": 3
      },
      "file_extension": ".py",
      "mimetype": "text/x-python",
      "name": "python",
      "nbconvert_exporter": "python",
      "pygments_lexer": "ipython3",
      "version": "3.6.6"
    },
    "colab": {
      "name": "Lecture1_intro_to_ml.ipynb",
      "version": "0.3.2",
      "provenance": [],
      "collapsed_sections": [
        "9FxqGMk-IEmC",
        "MJilxLa4LETk"
      ],
      "include_colab_link": true
    },
    "accelerator": "GPU"
  },
  "cells": [
    {
      "cell_type": "markdown",
      "metadata": {
        "id": "view-in-github",
        "colab_type": "text"
      },
      "source": [
        "<a href=\"https://colab.research.google.com/github/CharlesPoletowin/YCBS-273/blob/master/Lecture1_intro_to_ml.ipynb\" target=\"_parent\"><img src=\"https://colab.research.google.com/assets/colab-badge.svg\" alt=\"Open In Colab\"/></a>"
      ]
    },
    {
      "cell_type": "code",
      "metadata": {
        "id": "5nE33IvZIEl9",
        "colab_type": "code",
        "colab": {}
      },
      "source": [
        "%matplotlib inline"
      ],
      "execution_count": 0,
      "outputs": []
    },
    {
      "cell_type": "markdown",
      "metadata": {
        "id": "9FxqGMk-IEmC",
        "colab_type": "text"
      },
      "source": [
        "Disclaimer: This notebook is modified from the following notebooks:\n",
        "- https://colab.research.google.com/github/pytorch/tutorials/blob/gh-pages/_downloads/tensor_tutorial.ipynb#scrollTo=VswH-KuA8iIs\n",
        "- https://colab.research.google.com/github/pytorch/tutorials/blob/gh-pages/_downloads/autograd_tutorial.ipynb\n",
        "- https://colab.research.google.com/github/pytorch/tutorials/blob/gh-pages/_downloads/nn_tutorial.ipynb#scrollTo=N29T2vcqOnVU\n",
        "\n",
        "What is PyTorch?\n",
        "================\n",
        "\n",
        "It’s a Python-based scientific computing package targeted at two sets of\n",
        "audiences:\n",
        "\n",
        "-  A replacement for NumPy to use the power of GPUs\n",
        "-  a deep learning research platform that provides maximum flexibility\n",
        "   and speed\n",
        "\n",
        "Getting Started\n",
        "---------------\n",
        "\n",
        "Tensors\n",
        "----------\n",
        "\n",
        "Tensors are similar to NumPy’s ndarrays, with the addition being that\n",
        "Tensors can also be used on a GPU to accelerate computing.\n",
        "\n"
      ]
    },
    {
      "cell_type": "code",
      "metadata": {
        "id": "ETEKHNS_IEmD",
        "colab_type": "code",
        "colab": {}
      },
      "source": [
        "import torch"
      ],
      "execution_count": 0,
      "outputs": []
    },
    {
      "cell_type": "markdown",
      "metadata": {
        "id": "pYhD-tS7IEmF",
        "colab_type": "text"
      },
      "source": [
        "Construct a 5x3 matrix, uninitialized:\n",
        "\n"
      ]
    },
    {
      "cell_type": "code",
      "metadata": {
        "id": "eRhnDVu2IEmG",
        "colab_type": "code",
        "outputId": "3604ff8e-4ff7-41e7-d081-f3fa5d1db3f8",
        "colab": {
          "base_uri": "https://localhost:8080/",
          "height": 108
        }
      },
      "source": [
        "x = torch.empty(5, 3)\n",
        "print(x)"
      ],
      "execution_count": 0,
      "outputs": [
        {
          "output_type": "stream",
          "text": [
            "tensor([[8.5947e-36, 0.0000e+00, 3.3631e-44],\n",
            "        [0.0000e+00,        nan, 0.0000e+00],\n",
            "        [1.1578e+27, 1.1362e+30, 7.1547e+22],\n",
            "        [4.5828e+30, 1.2121e+04, 7.1846e+22],\n",
            "        [9.2198e-39, 0.0000e+00, 0.0000e+00]])\n"
          ],
          "name": "stdout"
        }
      ]
    },
    {
      "cell_type": "markdown",
      "metadata": {
        "id": "9i82ik1lIEmJ",
        "colab_type": "text"
      },
      "source": [
        "Construct a randomly initialized matrix:\n",
        "\n"
      ]
    },
    {
      "cell_type": "code",
      "metadata": {
        "id": "U_mzKOFmIEmK",
        "colab_type": "code",
        "outputId": "53ee62f7-d828-49c4-f73f-16a87df075c8",
        "colab": {
          "base_uri": "https://localhost:8080/",
          "height": 108
        }
      },
      "source": [
        "x = torch.rand(5, 3)\n",
        "print(x)"
      ],
      "execution_count": 0,
      "outputs": [
        {
          "output_type": "stream",
          "text": [
            "tensor([[0.9402, 0.7386, 0.1908],\n",
            "        [0.5239, 0.5900, 0.4439],\n",
            "        [0.8486, 0.8946, 0.7101],\n",
            "        [0.6064, 0.7136, 0.3344],\n",
            "        [0.9959, 0.7388, 0.0531]])\n"
          ],
          "name": "stdout"
        }
      ]
    },
    {
      "cell_type": "markdown",
      "metadata": {
        "id": "ksjGntU5IEmN",
        "colab_type": "text"
      },
      "source": [
        "Construct a matrix filled zeros and of dtype long:\n",
        "\n"
      ]
    },
    {
      "cell_type": "code",
      "metadata": {
        "id": "1I3f2UaeIEmQ",
        "colab_type": "code",
        "outputId": "2f99d8b9-b297-4626-8380-4182f029fe9c",
        "colab": {
          "base_uri": "https://localhost:8080/",
          "height": 108
        }
      },
      "source": [
        "x = torch.zeros(5, 3, dtype=torch.long)\n",
        "print(x)"
      ],
      "execution_count": 0,
      "outputs": [
        {
          "output_type": "stream",
          "text": [
            "tensor([[0, 0, 0],\n",
            "        [0, 0, 0],\n",
            "        [0, 0, 0],\n",
            "        [0, 0, 0],\n",
            "        [0, 0, 0]])\n"
          ],
          "name": "stdout"
        }
      ]
    },
    {
      "cell_type": "markdown",
      "metadata": {
        "id": "8qRenUWcIEmS",
        "colab_type": "text"
      },
      "source": [
        "Construct a tensor directly from data:\n",
        "\n"
      ]
    },
    {
      "cell_type": "code",
      "metadata": {
        "id": "-rY6xFX5IEmT",
        "colab_type": "code",
        "outputId": "a062213e-bac8-4f85-ee7d-0635cfc8a3fe",
        "colab": {
          "base_uri": "https://localhost:8080/",
          "height": 35
        }
      },
      "source": [
        "x = torch.tensor([5.5, 3])\n",
        "print(x)"
      ],
      "execution_count": 0,
      "outputs": [
        {
          "output_type": "stream",
          "text": [
            "tensor([5.5000, 3.0000])\n"
          ],
          "name": "stdout"
        }
      ]
    },
    {
      "cell_type": "markdown",
      "metadata": {
        "id": "gNnUCSCUIEmW",
        "colab_type": "text"
      },
      "source": [
        "or create a tensor based on an existing tensor. These methods\n",
        "will reuse properties of the input tensor, e.g. dtype, unless\n",
        "new values are provided by user\n",
        "\n"
      ]
    },
    {
      "cell_type": "code",
      "metadata": {
        "id": "0nIlWS8VIEmX",
        "colab_type": "code",
        "outputId": "9d751240-ce17-4b44-b870-28fd9551ee1f",
        "colab": {
          "base_uri": "https://localhost:8080/",
          "height": 218
        }
      },
      "source": [
        "x = x.new_ones(5, 3, dtype=torch.double)      # new_* methods take in sizes\n",
        "print(x)\n",
        "print('-----------')\n",
        "x = torch.randn_like(x, dtype=torch.float)    # override dtype!\n",
        "print(x)                                      # result has the same size"
      ],
      "execution_count": 0,
      "outputs": [
        {
          "output_type": "stream",
          "text": [
            "tensor([[1., 1., 1.],\n",
            "        [1., 1., 1.],\n",
            "        [1., 1., 1.],\n",
            "        [1., 1., 1.],\n",
            "        [1., 1., 1.]], dtype=torch.float64)\n",
            "-----------\n",
            "tensor([[ 1.8923,  0.6052,  0.2544],\n",
            "        [ 1.1650, -0.1624,  1.1122],\n",
            "        [ 1.7084,  0.4722,  0.1196],\n",
            "        [-0.4437,  1.1565, -0.8016],\n",
            "        [-1.0711,  2.2638,  0.4137]])\n"
          ],
          "name": "stdout"
        }
      ]
    },
    {
      "cell_type": "markdown",
      "metadata": {
        "id": "5i3xGOALIEmZ",
        "colab_type": "text"
      },
      "source": [
        "Get its size:\n",
        "\n"
      ]
    },
    {
      "cell_type": "code",
      "metadata": {
        "id": "6RKWNLnDIEma",
        "colab_type": "code",
        "outputId": "01771aa5-f0ee-4f48-817d-38f9a9a43456",
        "colab": {
          "base_uri": "https://localhost:8080/",
          "height": 35
        }
      },
      "source": [
        "print(x.size(), x.shape)"
      ],
      "execution_count": 0,
      "outputs": [
        {
          "output_type": "stream",
          "text": [
            "torch.Size([5, 3]) torch.Size([5, 3])\n"
          ],
          "name": "stdout"
        }
      ]
    },
    {
      "cell_type": "markdown",
      "metadata": {
        "id": "8zlfAh3NIEmd",
        "colab_type": "text"
      },
      "source": [
        "<div class=\"alert alert-info\"><h4>Note</h4><p>``torch.Size`` is in fact a tuple, so it supports all tuple operations.</p></div>\n",
        "\n",
        "Operations: \n",
        "There are multiple syntaxes for operations. In the following\n",
        "example, we will take a look at the addition operation.\n",
        "\n",
        "Addition: syntax 1\n",
        "\n"
      ]
    },
    {
      "cell_type": "code",
      "metadata": {
        "id": "llP_0G4pIEme",
        "colab_type": "code",
        "outputId": "2b57fe36-9432-413f-d72b-ac217fcb1114",
        "colab": {
          "base_uri": "https://localhost:8080/",
          "height": 108
        }
      },
      "source": [
        "y = torch.rand(5, 3)\n",
        "print(x + y)"
      ],
      "execution_count": 0,
      "outputs": [
        {
          "output_type": "stream",
          "text": [
            "tensor([[ 2.8878,  0.9037,  0.5156],\n",
            "        [ 1.2948,  0.0757,  1.1434],\n",
            "        [ 2.0705,  0.6726,  0.5657],\n",
            "        [-0.2314,  1.9233,  0.1088],\n",
            "        [-0.6687,  2.3718,  0.8878]])\n"
          ],
          "name": "stdout"
        }
      ]
    },
    {
      "cell_type": "markdown",
      "metadata": {
        "id": "V6wHQ3gZIEmh",
        "colab_type": "text"
      },
      "source": [
        "Addition: syntax 2\n",
        "\n"
      ]
    },
    {
      "cell_type": "code",
      "metadata": {
        "id": "6xUVDptPIEmh",
        "colab_type": "code",
        "outputId": "8e88f5d4-333f-4d63-b56c-c08502a27631",
        "colab": {
          "base_uri": "https://localhost:8080/",
          "height": 108
        }
      },
      "source": [
        "print(torch.add(x, y))"
      ],
      "execution_count": 0,
      "outputs": [
        {
          "output_type": "stream",
          "text": [
            "tensor([[ 2.8878,  0.9037,  0.5156],\n",
            "        [ 1.2948,  0.0757,  1.1434],\n",
            "        [ 2.0705,  0.6726,  0.5657],\n",
            "        [-0.2314,  1.9233,  0.1088],\n",
            "        [-0.6687,  2.3718,  0.8878]])\n"
          ],
          "name": "stdout"
        }
      ]
    },
    {
      "cell_type": "markdown",
      "metadata": {
        "id": "_yyBMQhBIEmk",
        "colab_type": "text"
      },
      "source": [
        "Addition: providing an output tensor as argument\n",
        "\n"
      ]
    },
    {
      "cell_type": "code",
      "metadata": {
        "id": "PhSZiFLOIEml",
        "colab_type": "code",
        "outputId": "46679fc1-2664-4d11-9850-8e52ab4e4a85",
        "colab": {
          "base_uri": "https://localhost:8080/",
          "height": 108
        }
      },
      "source": [
        "result = torch.empty(5, 3)\n",
        "torch.add(x, y, out=result)\n",
        "print(result)"
      ],
      "execution_count": 0,
      "outputs": [
        {
          "output_type": "stream",
          "text": [
            "tensor([[ 2.8878,  0.9037,  0.5156],\n",
            "        [ 1.2948,  0.0757,  1.1434],\n",
            "        [ 2.0705,  0.6726,  0.5657],\n",
            "        [-0.2314,  1.9233,  0.1088],\n",
            "        [-0.6687,  2.3718,  0.8878]])\n"
          ],
          "name": "stdout"
        }
      ]
    },
    {
      "cell_type": "markdown",
      "metadata": {
        "id": "39ly5wJJIEmo",
        "colab_type": "text"
      },
      "source": [
        "Addition: in-place\n",
        "\n"
      ]
    },
    {
      "cell_type": "code",
      "metadata": {
        "id": "ainyzIBOIEmp",
        "colab_type": "code",
        "outputId": "b38affc4-626d-40ef-940f-8889f8eeeafa",
        "colab": {
          "base_uri": "https://localhost:8080/",
          "height": 108
        }
      },
      "source": [
        "# adds x to y\n",
        "y.add_(x)\n",
        "print(y)"
      ],
      "execution_count": 0,
      "outputs": [
        {
          "output_type": "stream",
          "text": [
            "tensor([[ 2.8878,  0.9037,  0.5156],\n",
            "        [ 1.2948,  0.0757,  1.1434],\n",
            "        [ 2.0705,  0.6726,  0.5657],\n",
            "        [-0.2314,  1.9233,  0.1088],\n",
            "        [-0.6687,  2.3718,  0.8878]])\n"
          ],
          "name": "stdout"
        }
      ]
    },
    {
      "cell_type": "markdown",
      "metadata": {
        "id": "O1tELDD-IEmr",
        "colab_type": "text"
      },
      "source": [
        "<div class=\"alert alert-info\"><h4>Note</h4><p>Any operation that mutates a tensor in-place is post-fixed with an ``_``.\n",
        "    For example: ``x.copy_(y)``, ``x.t_()``, will change ``x``.</p></div>\n",
        "\n",
        "You can use standard NumPy-like indexing with all bells and whistles!\n",
        "\n"
      ]
    },
    {
      "cell_type": "code",
      "metadata": {
        "id": "XjdNwIcjIEmr",
        "colab_type": "code",
        "outputId": "10de15fe-a22f-4d58-de85-55bc273477e8",
        "colab": {
          "base_uri": "https://localhost:8080/",
          "height": 35
        }
      },
      "source": [
        "print(x[:, 1])"
      ],
      "execution_count": 0,
      "outputs": [
        {
          "output_type": "stream",
          "text": [
            "tensor([ 0.6052, -0.1624,  0.4722,  1.1565,  2.2638])\n"
          ],
          "name": "stdout"
        }
      ]
    },
    {
      "cell_type": "markdown",
      "metadata": {
        "id": "CxpulSKAIEmu",
        "colab_type": "text"
      },
      "source": [
        "Resizing: If you want to resize/reshape tensor, you can use ``torch.view``:\n",
        "\n"
      ]
    },
    {
      "cell_type": "code",
      "metadata": {
        "id": "Y2kHc8a8IEmv",
        "colab_type": "code",
        "outputId": "c5d4d9ec-0a81-435e-e52e-c6f08cb16447",
        "colab": {
          "base_uri": "https://localhost:8080/",
          "height": 35
        }
      },
      "source": [
        "x = torch.randn(4, 4)\n",
        "y = x.view(16)\n",
        "z = x.view(-1, 8)  # the size -1 is inferred from other dimensions\n",
        "print(x.size(), y.size(), z.size())"
      ],
      "execution_count": 0,
      "outputs": [
        {
          "output_type": "stream",
          "text": [
            "torch.Size([4, 4]) torch.Size([16]) torch.Size([2, 8])\n"
          ],
          "name": "stdout"
        }
      ]
    },
    {
      "cell_type": "markdown",
      "metadata": {
        "id": "Zkh4TevAIEmw",
        "colab_type": "text"
      },
      "source": [
        "If you have a one element tensor, use ``.item()`` to get the value as a\n",
        "Python number\n",
        "\n"
      ]
    },
    {
      "cell_type": "code",
      "metadata": {
        "id": "3WUDehrJIEmx",
        "colab_type": "code",
        "outputId": "c930bb75-1a39-4e9e-fbe2-426cf2a5b835",
        "colab": {
          "base_uri": "https://localhost:8080/",
          "height": 54
        }
      },
      "source": [
        "x = torch.randn(1)\n",
        "print(x)\n",
        "print(x.item())"
      ],
      "execution_count": 0,
      "outputs": [
        {
          "output_type": "stream",
          "text": [
            "tensor([-0.1063])\n",
            "-0.10630612075328827\n"
          ],
          "name": "stdout"
        }
      ]
    },
    {
      "cell_type": "markdown",
      "metadata": {
        "id": "XhsZ19XHIEmz",
        "colab_type": "text"
      },
      "source": [
        "**Read later:**\n",
        "\n",
        "\n",
        "  100+ Tensor operations, including transposing, indexing, slicing,\n",
        "  mathematical operations, linear algebra, random numbers, etc.,\n",
        "  are described\n",
        "  `here <http://pytorch.org/docs/torch>`_.\n",
        "\n",
        "NumPy Bridge\n",
        "------------\n",
        "\n",
        "Converting a Torch Tensor to a NumPy array and vice versa is a breeze.\n",
        "\n",
        "The Torch Tensor and NumPy array will share their underlying memory\n",
        "locations, and changing one will change the other.\n",
        "\n",
        "Converting a Torch Tensor to a NumPy Array"
      ]
    },
    {
      "cell_type": "code",
      "metadata": {
        "id": "yLlflQ7xIEm0",
        "colab_type": "code",
        "outputId": "f34516b5-299f-45fd-cf9d-45c9ae939d07",
        "colab": {
          "base_uri": "https://localhost:8080/",
          "height": 35
        }
      },
      "source": [
        "a = torch.ones(5)\n",
        "print(a)"
      ],
      "execution_count": 0,
      "outputs": [
        {
          "output_type": "stream",
          "text": [
            "tensor([1., 1., 1., 1., 1.])\n"
          ],
          "name": "stdout"
        }
      ]
    },
    {
      "cell_type": "code",
      "metadata": {
        "id": "c5KM5UhXIEm2",
        "colab_type": "code",
        "outputId": "492a3980-e4d2-42c2-c8d3-cb4071a874b1",
        "colab": {
          "base_uri": "https://localhost:8080/",
          "height": 35
        }
      },
      "source": [
        "b = a.numpy()\n",
        "print(b)"
      ],
      "execution_count": 0,
      "outputs": [
        {
          "output_type": "stream",
          "text": [
            "[1. 1. 1. 1. 1.]\n"
          ],
          "name": "stdout"
        }
      ]
    },
    {
      "cell_type": "markdown",
      "metadata": {
        "id": "zcjuW4ipIEm6",
        "colab_type": "text"
      },
      "source": [
        "See how the numpy array changed in value.\n",
        "\n"
      ]
    },
    {
      "cell_type": "code",
      "metadata": {
        "id": "iXeCGJSnIEm6",
        "colab_type": "code",
        "outputId": "b6d34b80-9e55-4bc4-ba3f-38d38c25d1fd",
        "colab": {
          "base_uri": "https://localhost:8080/",
          "height": 54
        }
      },
      "source": [
        "a.add_(1)\n",
        "print(a)\n",
        "print(b)"
      ],
      "execution_count": 0,
      "outputs": [
        {
          "output_type": "stream",
          "text": [
            "tensor([2., 2., 2., 2., 2.])\n",
            "[2. 2. 2. 2. 2.]\n"
          ],
          "name": "stdout"
        }
      ]
    },
    {
      "cell_type": "markdown",
      "metadata": {
        "id": "x25g4Jp3IEm8",
        "colab_type": "text"
      },
      "source": [
        "Converting NumPy Array to Torch Tensor\n",
        "--------------------------\n",
        "See how changing the np array changed the Torch Tensor automatically\n",
        "\n"
      ]
    },
    {
      "cell_type": "code",
      "metadata": {
        "id": "qBmkcKFLIEm8",
        "colab_type": "code",
        "outputId": "95cd234c-a961-45c9-9289-aefe1c9909b6",
        "colab": {
          "base_uri": "https://localhost:8080/",
          "height": 54
        }
      },
      "source": [
        "import numpy as np\n",
        "a = np.ones(5)\n",
        "b = torch.from_numpy(a)\n",
        "np.add(a, 1, out=a)\n",
        "print(a)\n",
        "print(b)"
      ],
      "execution_count": 0,
      "outputs": [
        {
          "output_type": "stream",
          "text": [
            "[2. 2. 2. 2. 2.]\n",
            "tensor([2., 2., 2., 2., 2.], dtype=torch.float64)\n"
          ],
          "name": "stdout"
        }
      ]
    },
    {
      "cell_type": "markdown",
      "metadata": {
        "id": "26STZIo0IEm-",
        "colab_type": "text"
      },
      "source": [
        "All the Tensors on the CPU except a CharTensor support converting to\n",
        "NumPy and back.\n",
        "\n",
        "CUDA Tensors\n",
        "------------\n",
        "\n",
        "Tensors can be moved onto any device using the ``.to`` method.\n",
        "\n"
      ]
    },
    {
      "cell_type": "code",
      "metadata": {
        "id": "pxDgMMAmIEm_",
        "colab_type": "code",
        "outputId": "aac94092-f705-4e82-9b84-359f7e13bd4f",
        "colab": {
          "base_uri": "https://localhost:8080/",
          "height": 54
        }
      },
      "source": [
        "# let us run this cell only if CUDA is available\n",
        "# We will use ``torch.device`` objects to move tensors in and out of GPU\n",
        "if torch.cuda.is_available():\n",
        "    device = torch.device(\"cuda\")          # a CUDA device object\n",
        "    y = torch.ones_like(x, device=device)  # directly create a tensor on GPU\n",
        "    x = x.to(device)                       # or just use strings ``.to(\"cuda\")``\n",
        "    z = x + y\n",
        "    print(z)\n",
        "    print(z.to(\"cpu\", torch.double))       # ``.to`` can also change dtype together!"
      ],
      "execution_count": 0,
      "outputs": [
        {
          "output_type": "stream",
          "text": [
            "tensor([0.8937], device='cuda:0')\n",
            "tensor([0.8937], dtype=torch.float64)\n"
          ],
          "name": "stdout"
        }
      ]
    },
    {
      "cell_type": "markdown",
      "metadata": {
        "id": "MJilxLa4LETk",
        "colab_type": "text"
      },
      "source": [
        "Automatic differentation\n",
        "=============\n",
        "\n",
        "Central to all neural networks in PyTorch is the ``autograd`` package. This let's us calculate the derivatives of parametric functions w.r.t all the parameters. This is used to perrform back-propagation to train neural nets. Let us see a few simple examples of how to use autograd."
      ]
    },
    {
      "cell_type": "code",
      "metadata": {
        "id": "gyiNdwywMes6",
        "colab_type": "code",
        "colab": {}
      },
      "source": [
        "from torch.autograd import Variable"
      ],
      "execution_count": 0,
      "outputs": []
    },
    {
      "cell_type": "markdown",
      "metadata": {
        "id": "d1ZuUh8wpeK5",
        "colab_type": "text"
      },
      "source": [
        "## **Simple backward**"
      ]
    },
    {
      "cell_type": "code",
      "metadata": {
        "id": "Ki-D_4SYk05K",
        "colab_type": "code",
        "outputId": "1ea97de6-0269-4d1d-841a-e2924d816e8a",
        "colab": {
          "base_uri": "https://localhost:8080/",
          "height": 35
        }
      },
      "source": [
        "x = Variable(torch.Tensor([2]), requires_grad=True)\n",
        "\n",
        "y = 4*x + 3\n",
        "\n",
        "y.backward()\n",
        "print(x.grad)"
      ],
      "execution_count": 0,
      "outputs": [
        {
          "output_type": "stream",
          "text": [
            "tensor([4.])\n"
          ],
          "name": "stdout"
        }
      ]
    },
    {
      "cell_type": "code",
      "metadata": {
        "id": "iRL9dBAg-OEb",
        "colab_type": "code",
        "colab": {}
      },
      "source": [
        "y.grad"
      ],
      "execution_count": 0,
      "outputs": []
    },
    {
      "cell_type": "code",
      "metadata": {
        "id": "AXJNtsZclC4x",
        "colab_type": "code",
        "outputId": "e196f43d-0530-412e-f7ad-c7b54a46f777",
        "colab": {
          "base_uri": "https://localhost:8080/",
          "height": 35
        }
      },
      "source": [
        "x1 = Variable(torch.Tensor([2]), requires_grad=True)\n",
        "x2 = Variable(torch.Tensor([3]), requires_grad=True)\n",
        "\n",
        "y = 4*x1 + 3*x2\n",
        "k = x1**3 + 4*x2**2\n",
        "\n",
        "y.backward()\n",
        "k.backward()\n",
        "\n",
        "print(x1.grad, x2.grad)"
      ],
      "execution_count": 0,
      "outputs": [
        {
          "output_type": "stream",
          "text": [
            "tensor([16.]) tensor([27.])\n"
          ],
          "name": "stdout"
        }
      ]
    },
    {
      "cell_type": "markdown",
      "metadata": {
        "id": "UUFMTqFxqQ-8",
        "colab_type": "text"
      },
      "source": [
        "## torch.no_grad()"
      ]
    },
    {
      "cell_type": "code",
      "metadata": {
        "id": "qIOeTRusmaxL",
        "colab_type": "code",
        "outputId": "20a51532-da11-4964-ecba-613dd1bc9af9",
        "colab": {
          "base_uri": "https://localhost:8080/",
          "height": 380
        }
      },
      "source": [
        "x = Variable(torch.Tensor([2]), requires_grad=True)\n",
        "y = torch.Tensor([1])\n",
        "\n",
        "with torch.no_grad():\n",
        "  for _ in range(3):\n",
        "    y = y * x\n",
        "\n",
        "y.backward()\n",
        "print(x.grad)"
      ],
      "execution_count": 0,
      "outputs": [
        {
          "output_type": "error",
          "ename": "RuntimeError",
          "evalue": "ignored",
          "traceback": [
            "\u001b[0;31m---------------------------------------------------------------------------\u001b[0m",
            "\u001b[0;31mRuntimeError\u001b[0m                              Traceback (most recent call last)",
            "\u001b[0;32m<ipython-input-25-bbc30e91cea1>\u001b[0m in \u001b[0;36m<module>\u001b[0;34m()\u001b[0m\n\u001b[1;32m      6\u001b[0m     \u001b[0my\u001b[0m \u001b[0;34m=\u001b[0m \u001b[0my\u001b[0m \u001b[0;34m*\u001b[0m \u001b[0mx\u001b[0m\u001b[0;34m\u001b[0m\u001b[0;34m\u001b[0m\u001b[0m\n\u001b[1;32m      7\u001b[0m \u001b[0;34m\u001b[0m\u001b[0m\n\u001b[0;32m----> 8\u001b[0;31m \u001b[0my\u001b[0m\u001b[0;34m.\u001b[0m\u001b[0mbackward\u001b[0m\u001b[0;34m(\u001b[0m\u001b[0;34m)\u001b[0m\u001b[0;34m\u001b[0m\u001b[0;34m\u001b[0m\u001b[0m\n\u001b[0m\u001b[1;32m      9\u001b[0m \u001b[0mprint\u001b[0m\u001b[0;34m(\u001b[0m\u001b[0mx\u001b[0m\u001b[0;34m.\u001b[0m\u001b[0mgrad\u001b[0m\u001b[0;34m)\u001b[0m\u001b[0;34m\u001b[0m\u001b[0;34m\u001b[0m\u001b[0m\n",
            "\u001b[0;32m/usr/local/lib/python3.6/dist-packages/torch/tensor.py\u001b[0m in \u001b[0;36mbackward\u001b[0;34m(self, gradient, retain_graph, create_graph)\u001b[0m\n\u001b[1;32m    105\u001b[0m                 \u001b[0mproducts\u001b[0m\u001b[0;34m.\u001b[0m \u001b[0mDefaults\u001b[0m \u001b[0mto\u001b[0m\u001b[0;31m \u001b[0m\u001b[0;31m`\u001b[0m\u001b[0;31m`\u001b[0m\u001b[0;32mFalse\u001b[0m\u001b[0;31m`\u001b[0m\u001b[0;31m`\u001b[0m\u001b[0;34m.\u001b[0m\u001b[0;34m\u001b[0m\u001b[0;34m\u001b[0m\u001b[0m\n\u001b[1;32m    106\u001b[0m         \"\"\"\n\u001b[0;32m--> 107\u001b[0;31m         \u001b[0mtorch\u001b[0m\u001b[0;34m.\u001b[0m\u001b[0mautograd\u001b[0m\u001b[0;34m.\u001b[0m\u001b[0mbackward\u001b[0m\u001b[0;34m(\u001b[0m\u001b[0mself\u001b[0m\u001b[0;34m,\u001b[0m \u001b[0mgradient\u001b[0m\u001b[0;34m,\u001b[0m \u001b[0mretain_graph\u001b[0m\u001b[0;34m,\u001b[0m \u001b[0mcreate_graph\u001b[0m\u001b[0;34m)\u001b[0m\u001b[0;34m\u001b[0m\u001b[0;34m\u001b[0m\u001b[0m\n\u001b[0m\u001b[1;32m    108\u001b[0m \u001b[0;34m\u001b[0m\u001b[0m\n\u001b[1;32m    109\u001b[0m     \u001b[0;32mdef\u001b[0m \u001b[0mregister_hook\u001b[0m\u001b[0;34m(\u001b[0m\u001b[0mself\u001b[0m\u001b[0;34m,\u001b[0m \u001b[0mhook\u001b[0m\u001b[0;34m)\u001b[0m\u001b[0;34m:\u001b[0m\u001b[0;34m\u001b[0m\u001b[0;34m\u001b[0m\u001b[0m\n",
            "\u001b[0;32m/usr/local/lib/python3.6/dist-packages/torch/autograd/__init__.py\u001b[0m in \u001b[0;36mbackward\u001b[0;34m(tensors, grad_tensors, retain_graph, create_graph, grad_variables)\u001b[0m\n\u001b[1;32m     91\u001b[0m     Variable._execution_engine.run_backward(\n\u001b[1;32m     92\u001b[0m         \u001b[0mtensors\u001b[0m\u001b[0;34m,\u001b[0m \u001b[0mgrad_tensors\u001b[0m\u001b[0;34m,\u001b[0m \u001b[0mretain_graph\u001b[0m\u001b[0;34m,\u001b[0m \u001b[0mcreate_graph\u001b[0m\u001b[0;34m,\u001b[0m\u001b[0;34m\u001b[0m\u001b[0;34m\u001b[0m\u001b[0m\n\u001b[0;32m---> 93\u001b[0;31m         allow_unreachable=True)  # allow_unreachable flag\n\u001b[0m\u001b[1;32m     94\u001b[0m \u001b[0;34m\u001b[0m\u001b[0m\n\u001b[1;32m     95\u001b[0m \u001b[0;34m\u001b[0m\u001b[0m\n",
            "\u001b[0;31mRuntimeError\u001b[0m: element 0 of tensors does not require grad and does not have a grad_fn"
          ]
        }
      ]
    },
    {
      "cell_type": "code",
      "metadata": {
        "id": "8V9lD19mqqBG",
        "colab_type": "code",
        "outputId": "b5c9d834-6694-45b6-c306-417d56227ff1",
        "colab": {
          "base_uri": "https://localhost:8080/",
          "height": 35
        }
      },
      "source": [
        "x = Variable(torch.Tensor([2]), requires_grad=True)\n",
        "y = torch.Tensor([1])\n",
        "\n",
        "with torch.no_grad():\n",
        "  for _ in range(3):\n",
        "    y = y * x\n",
        "y = y * x\n",
        "\n",
        "y.backward()\n",
        "print(x.grad)"
      ],
      "execution_count": 0,
      "outputs": [
        {
          "output_type": "stream",
          "text": [
            "tensor([8.])\n"
          ],
          "name": "stdout"
        }
      ]
    },
    {
      "cell_type": "markdown",
      "metadata": {
        "id": "F63Ci3TISmJn",
        "colab_type": "text"
      },
      "source": [
        "# End-to-end ML pipeline example with MLP"
      ]
    },
    {
      "cell_type": "markdown",
      "metadata": {
        "id": "NozPXG3nTM2C",
        "colab_type": "text"
      },
      "source": [
        "## Task\n",
        "\n",
        "We will first consider the task of regression. We will generate our own univariate data. Univariate data is easy to visualize."
      ]
    },
    {
      "cell_type": "markdown",
      "metadata": {
        "id": "N4GArzgt1F6T",
        "colab_type": "text"
      },
      "source": [
        "## Data setup\n",
        "\n",
        "We will generate our own data. In particular, we will sample points on a polynomial curve. We will add random noise to the data points in ordeer to make the data realistic."
      ]
    },
    {
      "cell_type": "code",
      "metadata": {
        "id": "24dNDuTWSuOQ",
        "colab_type": "code",
        "colab": {}
      },
      "source": [
        "from matplotlib import pyplot as plt\n",
        "import numpy as np\n",
        "import torch\n",
        "import math"
      ],
      "execution_count": 0,
      "outputs": []
    },
    {
      "cell_type": "code",
      "metadata": {
        "id": "cxde1nFbUZ_s",
        "colab_type": "code",
        "outputId": "e9347936-ab2a-4978-aaec-b31a343c053b",
        "colab": {
          "base_uri": "https://localhost:8080/",
          "height": 287
        }
      },
      "source": [
        "def f(x):\n",
        "  return (x - 0.2)*(x + 0.3)*(3*x - 1.5) + 10\n",
        "\n",
        "SIZE = 50\n",
        "x = np.linspace(-2, 2, SIZE, np.float32)\n",
        "y = f(x)\n",
        "\n",
        "# add noise\n",
        "y_noise = y + 2 * np.random.randn(SIZE)\n",
        "\n",
        "# data split into training and testing data\n",
        "idx = list(range(SIZE))\n",
        "np.random.shuffle(idx)\n",
        "\n",
        "x_train = x[idx][:40]\n",
        "y_train = y_noise[idx][:40]\n",
        "\n",
        "x_test = x[idx][40:]\n",
        "y_test = y_noise[idx][40:]\n",
        "\n",
        "# plot train and test points\n",
        "plt.plot(x_train, y_train, 'o')\n",
        "plt.plot(x_test, y_test, 'ro')\n",
        "plt.plot(x, y, 'k-')\n",
        "# TODO: add labels to the plot"
      ],
      "execution_count": 0,
      "outputs": [
        {
          "output_type": "execute_result",
          "data": {
            "text/plain": [
              "[<matplotlib.lines.Line2D at 0x7fbb646c0f60>]"
            ]
          },
          "metadata": {
            "tags": []
          },
          "execution_count": 28
        },
        {
          "output_type": "display_data",
          "data": {
            "image/png": "[encoded data removed]",
            "text/plain": [
              "<Figure size 432x288 with 1 Axes>"
            ]
          },
          "metadata": {
            "tags": []
          }
        }
      ]
    },
    {
      "cell_type": "markdown",
      "metadata": {
        "id": "HQ6dMU7_OnT6",
        "colab_type": "text"
      },
      "source": [
        "PyTorch uses ``torch.tensor``, rather than numpy arrays, so we need to\n",
        "convert our data.\n",
        "\n"
      ]
    },
    {
      "cell_type": "code",
      "metadata": {
        "id": "vMFrWE5VOnT6",
        "colab_type": "code",
        "colab": {}
      },
      "source": [
        "x_train, y_train, x_test, y_test = map(\n",
        "    torch.FloatTensor, (x_train[:, np.newaxis], y_train[:, np.newaxis], x_test[:, np.newaxis], y_test[:, np.newaxis])\n",
        ")\n",
        "n, _ = x_train.shape"
      ],
      "execution_count": 0,
      "outputs": []
    },
    {
      "cell_type": "code",
      "metadata": {
        "id": "CX9Ow7eOcdRi",
        "colab_type": "code",
        "outputId": "6e28a0f5-f6e5-49e1-a817-ffb202362d7c",
        "colab": {
          "base_uri": "https://localhost:8080/",
          "height": 35
        }
      },
      "source": [
        "x_train.shape"
      ],
      "execution_count": 0,
      "outputs": [
        {
          "output_type": "execute_result",
          "data": {
            "text/plain": [
              "torch.Size([40, 1])"
            ]
          },
          "metadata": {
            "tags": []
          },
          "execution_count": 36
        }
      ]
    },
    {
      "cell_type": "code",
      "metadata": {
        "id": "AiPht3Hpci4j",
        "colab_type": "code",
        "outputId": "3fa04bd5-5647-484d-be63-53dac67adc7c",
        "colab": {
          "base_uri": "https://localhost:8080/",
          "height": 35
        }
      },
      "source": [
        "x_test.shape"
      ],
      "execution_count": 0,
      "outputs": [
        {
          "output_type": "execute_result",
          "data": {
            "text/plain": [
              "torch.Size([10, 1])"
            ]
          },
          "metadata": {
            "tags": []
          },
          "execution_count": 37
        }
      ]
    },
    {
      "cell_type": "markdown",
      "metadata": {
        "id": "wVKV5Lr_UvII",
        "colab_type": "text"
      },
      "source": [
        "## Loss function"
      ]
    },
    {
      "cell_type": "code",
      "metadata": {
        "id": "4xMbpRMDUR92",
        "colab_type": "code",
        "colab": {}
      },
      "source": [
        "def mse(inp, target):\n",
        "  return torch.mean((inp - target)**2)\n",
        "  \n",
        "loss_func = mse"
      ],
      "execution_count": 0,
      "outputs": []
    },
    {
      "cell_type": "markdown",
      "metadata": {
        "id": "LOdqF9drFdk0",
        "colab_type": "text"
      },
      "source": [
        "## Activation functions"
      ]
    },
    {
      "cell_type": "code",
      "metadata": {
        "id": "tb8q_ykLFhJU",
        "colab_type": "code",
        "colab": {}
      },
      "source": [
        "def relu(x):\n",
        "  return torch.where(x > 0, x, torch.zeros(x.shape))\n",
        "\n",
        "def sigmoid(x):\n",
        "  return 1/(1 + torch.exp(-x))\n",
        "\n",
        "def tanh(x):\n",
        "  return (torch.exp(x) - torch.exp(-x))/(torch.exp(x) + torch.exp(-x))"
      ],
      "execution_count": 0,
      "outputs": []
    },
    {
      "cell_type": "markdown",
      "metadata": {
        "id": "Ox_TeIdHUshf",
        "colab_type": "text"
      },
      "source": [
        "## Model definition"
      ]
    },
    {
      "cell_type": "code",
      "metadata": {
        "id": "nVwYBgGSTZVe",
        "colab_type": "code",
        "colab": {}
      },
      "source": [
        "class Mnist_mlp_classifier():\n",
        "  def __init__(self):\n",
        "    self.weights_1 = torch.randn(1, 800)\n",
        "    self.weights_1.requires_grad_()\n",
        "    self.bias_1 = torch.zeros(800, requires_grad=True)\n",
        "\n",
        "    self.weights_2 = torch.randn(800, 1)\n",
        "    self.weights_2.requires_grad_()\n",
        "    self.bias_2 = torch.zeros(1, requires_grad=True)\n",
        "  \n",
        "  def forward(self, xb):\n",
        "    h =  xb.matmul(self.weights_1) + self.bias_1\n",
        "    h = tanh(h)\n",
        "    h =  h.matmul(self.weights_2) + self.bias_2\n",
        "    out = h\n",
        "    return out"
      ],
      "execution_count": 0,
      "outputs": []
    },
    {
      "cell_type": "markdown",
      "metadata": {
        "id": "knsjygzJU4YE",
        "colab_type": "text"
      },
      "source": [
        "## Training"
      ]
    },
    {
      "cell_type": "code",
      "metadata": {
        "id": "M6IWQmfyUyLy",
        "colab_type": "code",
        "outputId": "0ba40ab7-a2e7-4f9a-c130-3ba8a3ea6b39",
        "colab": {
          "base_uri": "https://localhost:8080/",
          "height": 1000
        }
      },
      "source": [
        "lr = 0.0005  # learning rate\n",
        "epochs = 250  # how many epochs to train for\n",
        "bs = 10  # batch size\n",
        "\n",
        "model = Mnist_mlp_classifier()\n",
        "\n",
        "y_pred = model.forward(x_test)\n",
        "print('MSE of model after training: ', mse(y_pred, y_test))\n",
        "\n",
        "for epoch in range(epochs):\n",
        "  for i in range((n - 1) // bs + 1):\n",
        "    start_i = i * bs\n",
        "    end_i = start_i + bs\n",
        "    xb = x_train[start_i:end_i]\n",
        "    yb = y_train[start_i:end_i]\n",
        "    pred = model.forward(xb)\n",
        "    loss = loss_func(pred, yb)\n",
        "    loss.backward()\n",
        "    \n",
        "    with torch.no_grad():\n",
        "      model.weights_1 -= model.weights_1.grad * lr\n",
        "      model.bias_1 -= model.bias_1.grad * lr\n",
        "      model.weights_1.grad.zero_()\n",
        "      model.bias_1.grad.zero_()\n",
        "\n",
        "      model.weights_2 -= model.weights_2.grad * lr\n",
        "      model.bias_2 -= model.bias_2.grad * lr\n",
        "      model.weights_2.grad.zero_()\n",
        "      model.bias_2.grad.zero_()\n",
        "      \n",
        "  print('Loss at epoch %d : %f' % (epoch, loss))\n",
        "\n",
        "y_pred = model.forward(x_test)\n",
        "print('MSE of model after training: ', loss_func(y_pred, y_test))"
      ],
      "execution_count": 0,
      "outputs": [
        {
          "output_type": "stream",
          "text": [
            "MSE of model after training:  tensor(120.3267, grad_fn=<MeanBackward0>)\n",
            "Loss at epoch 0 : 31.284595\n",
            "Loss at epoch 1 : 21.391603\n",
            "Loss at epoch 2 : 19.561281\n",
            "Loss at epoch 3 : 18.193947\n",
            "Loss at epoch 4 : 17.016077\n",
            "Loss at epoch 5 : 15.986241\n",
            "Loss at epoch 6 : 15.083712\n",
            "Loss at epoch 7 : 14.291759\n",
            "Loss at epoch 8 : 13.596022\n",
            "Loss at epoch 9 : 12.984096\n",
            "Loss at epoch 10 : 12.445265\n",
            "Loss at epoch 11 : 11.970261\n",
            "Loss at epoch 12 : 11.550993\n",
            "Loss at epoch 13 : 11.180456\n",
            "Loss at epoch 14 : 10.852633\n",
            "Loss at epoch 15 : 10.562223\n",
            "Loss at epoch 16 : 10.304646\n",
            "Loss at epoch 17 : 10.075865\n",
            "Loss at epoch 18 : 9.872429\n",
            "Loss at epoch 19 : 9.691301\n",
            "Loss at epoch 20 : 9.529798\n",
            "Loss at epoch 21 : 9.385622\n",
            "Loss at epoch 22 : 9.256731\n",
            "Loss at epoch 23 : 9.141359\n",
            "Loss at epoch 24 : 9.037945\n",
            "Loss at epoch 25 : 8.945091\n",
            "Loss at epoch 26 : 8.861648\n",
            "Loss at epoch 27 : 8.786531\n",
            "Loss at epoch 28 : 8.718807\n",
            "Loss at epoch 29 : 8.657660\n",
            "Loss at epoch 30 : 8.602373\n",
            "Loss at epoch 31 : 8.552328\n",
            "Loss at epoch 32 : 8.506948\n",
            "Loss at epoch 33 : 8.465723\n",
            "Loss at epoch 34 : 8.428235\n",
            "Loss at epoch 35 : 8.394098\n",
            "Loss at epoch 36 : 8.362939\n",
            "Loss at epoch 37 : 8.334478\n",
            "Loss at epoch 38 : 8.308434\n",
            "Loss at epoch 39 : 8.284595\n",
            "Loss at epoch 40 : 8.262670\n",
            "Loss at epoch 41 : 8.242565\n",
            "Loss at epoch 42 : 8.224024\n",
            "Loss at epoch 43 : 8.206964\n",
            "Loss at epoch 44 : 8.191192\n",
            "Loss at epoch 45 : 8.176611\n",
            "Loss at epoch 46 : 8.163126\n",
            "Loss at epoch 47 : 8.150619\n",
            "Loss at epoch 48 : 8.139002\n",
            "Loss at epoch 49 : 8.128196\n",
            "Loss at epoch 50 : 8.118143\n",
            "Loss at epoch 51 : 8.108778\n",
            "Loss at epoch 52 : 8.100042\n",
            "Loss at epoch 53 : 8.091853\n",
            "Loss at epoch 54 : 8.084208\n",
            "Loss at epoch 55 : 8.077039\n",
            "Loss at epoch 56 : 8.070302\n",
            "Loss at epoch 57 : 8.063988\n",
            "Loss at epoch 58 : 8.058050\n",
            "Loss at epoch 59 : 8.052461\n",
            "Loss at epoch 60 : 8.047199\n",
            "Loss at epoch 61 : 8.042213\n",
            "Loss at epoch 62 : 8.037521\n",
            "Loss at epoch 63 : 8.033076\n",
            "Loss at epoch 64 : 8.028876\n",
            "Loss at epoch 65 : 8.024909\n",
            "Loss at epoch 66 : 8.021135\n",
            "Loss at epoch 67 : 8.017529\n",
            "Loss at epoch 68 : 8.014135\n",
            "Loss at epoch 69 : 8.010901\n",
            "Loss at epoch 70 : 8.007801\n",
            "Loss at epoch 71 : 8.004889\n",
            "Loss at epoch 72 : 8.002096\n",
            "Loss at epoch 73 : 7.999418\n",
            "Loss at epoch 74 : 7.996873\n",
            "Loss at epoch 75 : 7.994438\n",
            "Loss at epoch 76 : 7.992110\n",
            "Loss at epoch 77 : 7.989884\n",
            "Loss at epoch 78 : 7.987737\n",
            "Loss at epoch 79 : 7.985701\n",
            "Loss at epoch 80 : 7.983744\n",
            "Loss at epoch 81 : 7.981888\n",
            "Loss at epoch 82 : 7.980068\n",
            "Loss at epoch 83 : 7.978342\n",
            "Loss at epoch 84 : 7.976689\n",
            "Loss at epoch 85 : 7.975089\n",
            "Loss at epoch 86 : 7.973553\n",
            "Loss at epoch 87 : 7.972076\n",
            "Loss at epoch 88 : 7.970658\n",
            "Loss at epoch 89 : 7.969290\n",
            "Loss at epoch 90 : 7.967969\n",
            "Loss at epoch 91 : 7.966710\n",
            "Loss at epoch 92 : 7.965478\n",
            "Loss at epoch 93 : 7.964314\n",
            "Loss at epoch 94 : 7.963171\n",
            "Loss at epoch 95 : 7.962087\n",
            "Loss at epoch 96 : 7.961028\n",
            "Loss at epoch 97 : 7.960001\n",
            "Loss at epoch 98 : 7.959025\n",
            "Loss at epoch 99 : 7.958064\n",
            "Loss at epoch 100 : 7.957143\n",
            "Loss at epoch 101 : 7.956268\n",
            "Loss at epoch 102 : 7.955414\n",
            "Loss at epoch 103 : 7.954585\n",
            "Loss at epoch 104 : 7.953796\n",
            "Loss at epoch 105 : 7.953040\n",
            "Loss at epoch 106 : 7.952295\n",
            "Loss at epoch 107 : 7.951579\n",
            "Loss at epoch 108 : 7.950883\n",
            "Loss at epoch 109 : 7.950218\n",
            "Loss at epoch 110 : 7.949571\n",
            "Loss at epoch 111 : 7.948966\n",
            "Loss at epoch 112 : 7.948359\n",
            "Loss at epoch 113 : 7.947798\n",
            "Loss at epoch 114 : 7.947238\n",
            "Loss at epoch 115 : 7.946710\n",
            "Loss at epoch 116 : 7.946185\n",
            "Loss at epoch 117 : 7.945674\n",
            "Loss at epoch 118 : 7.945208\n",
            "Loss at epoch 119 : 7.944749\n",
            "Loss at epoch 120 : 7.944305\n",
            "Loss at epoch 121 : 7.943876\n",
            "Loss at epoch 122 : 7.943461\n",
            "Loss at epoch 123 : 7.943067\n",
            "Loss at epoch 124 : 7.942694\n",
            "Loss at epoch 125 : 7.942328\n",
            "Loss at epoch 126 : 7.941991\n",
            "Loss at epoch 127 : 7.941655\n",
            "Loss at epoch 128 : 7.941332\n",
            "Loss at epoch 129 : 7.941036\n",
            "Loss at epoch 130 : 7.940741\n",
            "Loss at epoch 131 : 7.940469\n",
            "Loss at epoch 132 : 7.940205\n",
            "Loss at epoch 133 : 7.939960\n",
            "Loss at epoch 134 : 7.939721\n",
            "Loss at epoch 135 : 7.939493\n",
            "Loss at epoch 136 : 7.939279\n",
            "Loss at epoch 137 : 7.939070\n",
            "Loss at epoch 138 : 7.938904\n",
            "Loss at epoch 139 : 7.938707\n",
            "Loss at epoch 140 : 7.938551\n",
            "Loss at epoch 141 : 7.938399\n",
            "Loss at epoch 142 : 7.938248\n",
            "Loss at epoch 143 : 7.938115\n",
            "Loss at epoch 144 : 7.938005\n",
            "Loss at epoch 145 : 7.937860\n",
            "Loss at epoch 146 : 7.937770\n",
            "Loss at epoch 147 : 7.937658\n",
            "Loss at epoch 148 : 7.937596\n",
            "Loss at epoch 149 : 7.937505\n",
            "Loss at epoch 150 : 7.937432\n",
            "Loss at epoch 151 : 7.937389\n",
            "Loss at epoch 152 : 7.937328\n",
            "Loss at epoch 153 : 7.937296\n",
            "Loss at epoch 154 : 7.937269\n",
            "Loss at epoch 155 : 7.937243\n",
            "Loss at epoch 156 : 7.937229\n",
            "Loss at epoch 157 : 7.937232\n",
            "Loss at epoch 158 : 7.937219\n",
            "Loss at epoch 159 : 7.937223\n",
            "Loss at epoch 160 : 7.937246\n",
            "Loss at epoch 161 : 7.937270\n",
            "Loss at epoch 162 : 7.937303\n",
            "Loss at epoch 163 : 7.937337\n",
            "Loss at epoch 164 : 7.937396\n",
            "Loss at epoch 165 : 7.937443\n",
            "Loss at epoch 166 : 7.937502\n",
            "Loss at epoch 167 : 7.937566\n",
            "Loss at epoch 168 : 7.937630\n",
            "Loss at epoch 169 : 7.937717\n",
            "Loss at epoch 170 : 7.937808\n",
            "Loss at epoch 171 : 7.937887\n",
            "Loss at epoch 172 : 7.938000\n",
            "Loss at epoch 173 : 7.938082\n",
            "Loss at epoch 174 : 7.938199\n",
            "Loss at epoch 175 : 7.938333\n",
            "Loss at epoch 176 : 7.938445\n",
            "Loss at epoch 177 : 7.938579\n",
            "Loss at epoch 178 : 7.938704\n",
            "Loss at epoch 179 : 7.938851\n",
            "Loss at epoch 180 : 7.938997\n",
            "Loss at epoch 181 : 7.939134\n",
            "Loss at epoch 182 : 7.939296\n",
            "Loss at epoch 183 : 7.939458\n",
            "Loss at epoch 184 : 7.939614\n",
            "Loss at epoch 185 : 7.939795\n",
            "Loss at epoch 186 : 7.939960\n",
            "Loss at epoch 187 : 7.940146\n",
            "Loss at epoch 188 : 7.940322\n",
            "Loss at epoch 189 : 7.940513\n",
            "Loss at epoch 190 : 7.940705\n",
            "Loss at epoch 191 : 7.940898\n",
            "Loss at epoch 192 : 7.941111\n",
            "Loss at epoch 193 : 7.941318\n",
            "Loss at epoch 194 : 7.941518\n",
            "Loss at epoch 195 : 7.941725\n",
            "Loss at epoch 196 : 7.941944\n",
            "Loss at epoch 197 : 7.942172\n",
            "Loss at epoch 198 : 7.942402\n",
            "Loss at epoch 199 : 7.942629\n",
            "Loss at epoch 200 : 7.942858\n",
            "Loss at epoch 201 : 7.943096\n",
            "Loss at epoch 202 : 7.943329\n",
            "Loss at epoch 203 : 7.943573\n",
            "Loss at epoch 204 : 7.943824\n",
            "Loss at epoch 205 : 7.944067\n",
            "Loss at epoch 206 : 7.944327\n",
            "Loss at epoch 207 : 7.944582\n",
            "Loss at epoch 208 : 7.944857\n",
            "Loss at epoch 209 : 7.945107\n",
            "Loss at epoch 210 : 7.945384\n",
            "Loss at epoch 211 : 7.945652\n",
            "Loss at epoch 212 : 7.945903\n",
            "Loss at epoch 213 : 7.946191\n",
            "Loss at epoch 214 : 7.946465\n",
            "Loss at epoch 215 : 7.946755\n",
            "Loss at epoch 216 : 7.947034\n",
            "Loss at epoch 217 : 7.947315\n",
            "Loss at epoch 218 : 7.947594\n",
            "Loss at epoch 219 : 7.947898\n",
            "Loss at epoch 220 : 7.948176\n",
            "Loss at epoch 221 : 7.948471\n",
            "Loss at epoch 222 : 7.948790\n",
            "Loss at epoch 223 : 7.949080\n",
            "Loss at epoch 224 : 7.949388\n",
            "Loss at epoch 225 : 7.949698\n",
            "Loss at epoch 226 : 7.949982\n",
            "Loss at epoch 227 : 7.950313\n",
            "Loss at epoch 228 : 7.950600\n",
            "Loss at epoch 229 : 7.950926\n",
            "Loss at epoch 230 : 7.951234\n",
            "Loss at epoch 231 : 7.951552\n",
            "Loss at epoch 232 : 7.951865\n",
            "Loss at epoch 233 : 7.952193\n",
            "Loss at epoch 234 : 7.952510\n",
            "Loss at epoch 235 : 7.952842\n",
            "Loss at epoch 236 : 7.953168\n",
            "Loss at epoch 237 : 7.953501\n",
            "Loss at epoch 238 : 7.953818\n",
            "Loss at epoch 239 : 7.954151\n",
            "Loss at epoch 240 : 7.954488\n",
            "Loss at epoch 241 : 7.954811\n",
            "Loss at epoch 242 : 7.955152\n",
            "Loss at epoch 243 : 7.955482\n",
            "Loss at epoch 244 : 7.955819\n",
            "Loss at epoch 245 : 7.956182\n",
            "Loss at epoch 246 : 7.956511\n",
            "Loss at epoch 247 : 7.956851\n",
            "Loss at epoch 248 : 7.957198\n",
            "Loss at epoch 249 : 7.957528\n",
            "MSE of model after training:  tensor(4.2957, grad_fn=<MeanBackward0>)\n"
          ],
          "name": "stdout"
        }
      ]
    },
    {
      "cell_type": "markdown",
      "metadata": {
        "id": "kXNWCAEIPgw4",
        "colab_type": "text"
      },
      "source": [
        "## Visualizing the trained model "
      ]
    },
    {
      "cell_type": "code",
      "metadata": {
        "colab_type": "code",
        "outputId": "bd5afbb8-1cf5-4971-aced-76a98d095fd7",
        "id": "ajnc5IT_HcFo",
        "colab": {
          "base_uri": "https://localhost:8080/",
          "height": 287
        }
      },
      "source": [
        "x = torch.linspace(-2, 2, 50).unsqueeze(1)\n",
        "y_ = model.forward(x)\n",
        "y = f(x)\n",
        "plt.plot(x_train.numpy(), y_train.detach().numpy(), 'o')\n",
        "plt.plot(x.numpy(), y_.detach().numpy(), 'b-')\n",
        "plt.plot(x.numpy(), y.detach().numpy(), 'k-')"
      ],
      "execution_count": 0,
      "outputs": [
        {
          "output_type": "execute_result",
          "data": {
            "text/plain": [
              "[<matplotlib.lines.Line2D at 0x7fbb61df75f8>]"
            ]
          },
          "metadata": {
            "tags": []
          },
          "execution_count": 35
        },
        {
          "output_type": "display_data",
          "data": {
            "image/png": "[encoded data removed]",
            "text/plain": [
              "<Figure size 432x288 with 1 Axes>"
            ]
          },
          "metadata": {
            "tags": []
          }
        }
      ]
    },
    {
      "cell_type": "code",
      "metadata": {
        "id": "hbvpkMb2Hp8g",
        "colab_type": "code",
        "colab": {}
      },
      "source": [
        ""
      ],
      "execution_count": 0,
      "outputs": []
    }
  ]
}