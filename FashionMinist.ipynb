{
  "nbformat": 4,
  "nbformat_minor": 0,
  "metadata": {
    "colab": {
      "name": "FashionMinist.ipynb",
      "version": "0.3.2",
      "provenance": [],
      "include_colab_link": true
    },
    "kernelspec": {
      "name": "python3",
      "display_name": "Python 3"
    },
    "accelerator": "GPU"
  },
  "cells": [
    {
      "cell_type": "markdown",
      "metadata": {
        "id": "view-in-github",
        "colab_type": "text"
      },
      "source": [
        "<a href=\"https://colab.research.google.com/github/CharlesPoletowin/YCBS-273/blob/master/FashionMinist.ipynb\" target=\"_parent\"><img src=\"https://colab.research.google.com/assets/colab-badge.svg\" alt=\"Open In Colab\"/></a>"
      ]
    },
    {
      "cell_type": "markdown",
      "metadata": {
        "id": "wCNAAoLskIoA",
        "colab_type": "text"
      },
      "source": [
        "# This is the demo of fashion minist dataset"
      ]
    },
    {
      "cell_type": "markdown",
      "metadata": {
        "id": "m7FIizQkkPAG",
        "colab_type": "text"
      },
      "source": [
        "## import library I need"
      ]
    },
    {
      "cell_type": "code",
      "metadata": {
        "id": "DKgtXIlDXJw7",
        "colab_type": "code",
        "colab": {}
      },
      "source": [
        "%matplotlib inline\n",
        "from pathlib import Path\n",
        "import requests\n",
        "import gzip\n",
        "import numpy as np\n",
        "import pandas as pd\n",
        "import math\n",
        "import torch\n",
        "from torch import nn\n",
        "from torch import optim\n",
        "import torch.nn.functional as F\n",
        "from torch.utils.data import TensorDataset\n",
        "from torch.utils.data import DataLoader\n",
        "\n",
        "from sklearn.metrics import accuracy_score\n",
        "from torchvision import datasets, transforms\n",
        "from torch.utils.data import Dataset, DataLoader"
      ],
      "execution_count": 0,
      "outputs": []
    },
    {
      "cell_type": "markdown",
      "metadata": {
        "id": "buM-9Cl0kSnz",
        "colab_type": "text"
      },
      "source": [
        "## download and prepare for the dataset"
      ]
    },
    {
      "cell_type": "code",
      "metadata": {
        "id": "w2uGHbMOgmrQ",
        "colab_type": "code",
        "colab": {}
      },
      "source": [
        "DATA_PATH = Path(\"data\")\n",
        "PATH = DATA_PATH / \"mnist\"\n",
        "\n",
        "PATH.mkdir(parents=True, exist_ok=True)\n",
        "\n",
        "def get_data(url, file_name, offset):\n",
        "  content = requests.get(url).content\n",
        "  (PATH / file_name).open(\"wb\").write(content)\n",
        "  with gzip.open((PATH / file_name).as_posix(), \"rb\") as f:\n",
        "    data = np.frombuffer(f.read(), dtype=np.uint8, offset=offset)\n",
        "  return data\n",
        "\n",
        "y_train = get_data(\"http://fashion-mnist.s3-website.eu-central-1.amazonaws.com/train-labels-idx1-ubyte.gz\", \"train-labels\", 8).astype('int64')\n",
        "x_train = get_data(\"http://fashion-mnist.s3-website.eu-central-1.amazonaws.com/train-images-idx3-ubyte.gz\", \"train-images\", 16).reshape(len(y_train), 784).astype('float32')\n",
        "y_test = get_data(\"http://fashion-mnist.s3-website.eu-central-1.amazonaws.com/t10k-labels-idx1-ubyte.gz\", \"test-labels\", 8).astype('int64')\n",
        "x_test = get_data(\"http://fashion-mnist.s3-website.eu-central-1.amazonaws.com/t10k-images-idx3-ubyte.gz\", \"test-images\", 16).reshape(len(y_test), 784).astype('float32')\n",
        "x_train, y_train, x_test, y_test = map(\n",
        "    torch.tensor, (x_train, y_train, x_test, y_test)\n",
        ")\n",
        "n = x_train.shape[0]\n",
        "x_test=x_test.cuda()\n",
        "x_train=x_train.cuda()\n",
        "y_test=y_test.cuda()\n",
        "y_train=y_train.cuda()"
      ],
      "execution_count": 0,
      "outputs": []
    },
    {
      "cell_type": "markdown",
      "metadata": {
        "id": "gegRyKZei4Dn",
        "colab_type": "text"
      },
      "source": [
        "http://fashion-mnist.s3-website.eu-central-1.amazonaws.com/train-images-idx3-ubyte.gz\n",
        "\n",
        "http://fashion-mnist.s3-website.eu-central-1.amazonaws.com/train-labels-idx1-ubyte.gz\n",
        "\n",
        "http://fashion-mnist.s3-website.eu-central-1.amazonaws.com/t10k-images-idx3-ubyte.gz\n",
        "\n",
        "http://fashion-mnist.s3-website.eu-central-1.amazonaws.com/t10k-labels-idx1-ubyte.gz"
      ]
    },
    {
      "cell_type": "markdown",
      "metadata": {
        "id": "wSVlfziXkW2l",
        "colab_type": "text"
      },
      "source": [
        "## the initial model of cnn"
      ]
    },
    {
      "cell_type": "code",
      "metadata": {
        "id": "wEUS_jZqZ7lP",
        "colab_type": "code",
        "colab": {}
      },
      "source": [
        "class CNN(nn.Module):\n",
        "    def __init__(self):\n",
        "        super(CNN, self).__init__()\n",
        "        self.layer1 = nn.Sequential(\n",
        "            nn.Conv2d(1, 16, kernel_size=5, padding=2),\n",
        "            nn.BatchNorm2d(16),\n",
        "            nn.ReLU(),\n",
        "            nn.MaxPool2d(2))\n",
        "        self.layer2 = nn.Sequential(\n",
        "            nn.Conv2d(16, 32, kernel_size=5, padding=2),\n",
        "            nn.BatchNorm2d(32),\n",
        "            nn.ReLU(),\n",
        "            nn.MaxPool2d(2))\n",
        "        self.fc = nn.Linear(7*7*32, 10)\n",
        "        \n",
        "    def forward(self, x):\n",
        "        out = self.layer1(x)\n",
        "        out = self.layer2(out)\n",
        "        out = out.view(out.size(0), -1)\n",
        "        out = self.fc(out)\n",
        "        return out"
      ],
      "execution_count": 0,
      "outputs": []
    },
    {
      "cell_type": "code",
      "metadata": {
        "id": "muyi8fBmbsJj",
        "colab_type": "code",
        "outputId": "3d0bde7c-0f76-47e9-f6ea-704bc740e79a",
        "colab": {
          "base_uri": "https://localhost:8080/",
          "height": 291
        }
      },
      "source": [
        "cnn = CNN()\n",
        "cnn.cuda()"
      ],
      "execution_count": 0,
      "outputs": [
        {
          "output_type": "execute_result",
          "data": {
            "text/plain": [
              "CNN(\n",
              "  (layer1): Sequential(\n",
              "    (0): Conv2d(1, 16, kernel_size=(5, 5), stride=(1, 1), padding=(2, 2))\n",
              "    (1): BatchNorm2d(16, eps=1e-05, momentum=0.1, affine=True, track_running_stats=True)\n",
              "    (2): ReLU()\n",
              "    (3): MaxPool2d(kernel_size=2, stride=2, padding=0, dilation=1, ceil_mode=False)\n",
              "  )\n",
              "  (layer2): Sequential(\n",
              "    (0): Conv2d(16, 32, kernel_size=(5, 5), stride=(1, 1), padding=(2, 2))\n",
              "    (1): BatchNorm2d(32, eps=1e-05, momentum=0.1, affine=True, track_running_stats=True)\n",
              "    (2): ReLU()\n",
              "    (3): MaxPool2d(kernel_size=2, stride=2, padding=0, dilation=1, ceil_mode=False)\n",
              "  )\n",
              "  (fc): Linear(in_features=1568, out_features=10, bias=True)\n",
              ")"
            ]
          },
          "metadata": {
            "tags": []
          },
          "execution_count": 11
        }
      ]
    },
    {
      "cell_type": "code",
      "metadata": {
        "id": "c3DZkjLgf7F3",
        "colab_type": "code",
        "colab": {}
      },
      "source": [
        "def train_model(model, x_train, y_train, x_test, y_test, epochs=250, batch_size=256, lr=0.01, weight_decay=0):\n",
        "  # data\n",
        "  train_dataset = TensorDataset(x_train, y_train)\n",
        "  train_data_loader = DataLoader(train_dataset, batch_size=batch_size)\n",
        "  \n",
        "  # loss function\n",
        "  loss_func = F.cross_entropy\n",
        "\n",
        "  # optimizer\n",
        "  optimizer = optim.Adam(model.parameters(), lr=lr, weight_decay=weight_decay)\n",
        "\n",
        "  # training loop\n",
        "  for epoch in range(epochs):\n",
        "    for xb, yb in train_data_loader:\n",
        "      \n",
        "      pred = model(xb)\n",
        "      loss = loss_func(pred, yb)\n",
        "\n",
        "      loss.backward()\n",
        "      optimizer.step()\n",
        "      optimizer.zero_grad()\n",
        "\n",
        "    y_pred = model(x_test)\n",
        "    acc = accuracy_score(torch.argmax(y_pred, dim=1).cpu().detach().numpy(), y_test.cpu())\n",
        "    \n",
        "    print('Loss at epoch %d : %f, test acc: %f' % (epoch, loss, acc))"
      ],
      "execution_count": 0,
      "outputs": []
    },
    {
      "cell_type": "markdown",
      "metadata": {
        "id": "yOFfZba_kb1l",
        "colab_type": "text"
      },
      "source": [
        "## train the model"
      ]
    },
    {
      "cell_type": "code",
      "metadata": {
        "id": "DE7TDfEIjHuR",
        "colab_type": "code",
        "outputId": "ba4c0c10-220c-4cd9-d065-18f75221b5d8",
        "colab": {
          "base_uri": "https://localhost:8080/",
          "height": 565
        }
      },
      "source": [
        "train_model(cnn, x_train.view(-1,1,28,28), y_train, x_test.view(-1,1,28,28), y_test,epochs=30,lr=0.001)"
      ],
      "execution_count": 0,
      "outputs": [
        {
          "output_type": "stream",
          "text": [
            "Loss at epoch 0 : 0.296137, test acc: 0.864400\n",
            "Loss at epoch 1 : 0.217342, test acc: 0.882700\n",
            "Loss at epoch 2 : 0.187078, test acc: 0.886800\n",
            "Loss at epoch 3 : 0.172404, test acc: 0.889700\n",
            "Loss at epoch 4 : 0.159349, test acc: 0.888700\n",
            "Loss at epoch 5 : 0.144943, test acc: 0.886800\n",
            "Loss at epoch 6 : 0.128845, test acc: 0.886200\n",
            "Loss at epoch 7 : 0.107657, test acc: 0.886100\n",
            "Loss at epoch 8 : 0.096159, test acc: 0.886400\n",
            "Loss at epoch 9 : 0.085074, test acc: 0.886200\n",
            "Loss at epoch 10 : 0.075651, test acc: 0.887000\n",
            "Loss at epoch 11 : 0.062632, test acc: 0.887400\n",
            "Loss at epoch 12 : 0.056205, test acc: 0.886100\n",
            "Loss at epoch 13 : 0.049004, test acc: 0.889200\n",
            "Loss at epoch 14 : 0.045795, test acc: 0.889600\n",
            "Loss at epoch 15 : 0.038661, test acc: 0.889700\n",
            "Loss at epoch 16 : 0.037889, test acc: 0.891100\n",
            "Loss at epoch 17 : 0.034072, test acc: 0.891900\n",
            "Loss at epoch 18 : 0.028304, test acc: 0.895500\n",
            "Loss at epoch 19 : 0.025917, test acc: 0.899300\n",
            "Loss at epoch 20 : 0.026632, test acc: 0.899400\n",
            "Loss at epoch 21 : 0.024618, test acc: 0.897000\n",
            "Loss at epoch 22 : 0.032689, test acc: 0.896300\n",
            "Loss at epoch 23 : 0.025042, test acc: 0.895100\n",
            "Loss at epoch 24 : 0.025931, test acc: 0.900300\n",
            "Loss at epoch 25 : 0.017783, test acc: 0.900300\n",
            "Loss at epoch 26 : 0.015095, test acc: 0.903100\n",
            "Loss at epoch 27 : 0.019237, test acc: 0.902700\n",
            "Loss at epoch 28 : 0.031053, test acc: 0.901200\n",
            "Loss at epoch 29 : 0.028592, test acc: 0.898500\n"
          ],
          "name": "stdout"
        }
      ]
    },
    {
      "cell_type": "code",
      "metadata": {
        "id": "s3KmfwbijUW2",
        "colab_type": "code",
        "outputId": "fdb65659-9e21-432c-c39f-7de530ea14c4",
        "colab": {
          "base_uri": "https://localhost:8080/",
          "height": 565
        }
      },
      "source": [
        "train_model(cnn, x_train.view(-1,1,28,28), y_train, x_test.view(-1,1,28,28), y_test,epochs=30,lr=0.0001)"
      ],
      "execution_count": 0,
      "outputs": [
        {
          "output_type": "stream",
          "text": [
            "Loss at epoch 0 : 0.011768, test acc: 0.909400\n",
            "Loss at epoch 1 : 0.011026, test acc: 0.909800\n",
            "Loss at epoch 2 : 0.010690, test acc: 0.909500\n",
            "Loss at epoch 3 : 0.010585, test acc: 0.909300\n",
            "Loss at epoch 4 : 0.010420, test acc: 0.908800\n",
            "Loss at epoch 5 : 0.010312, test acc: 0.908900\n",
            "Loss at epoch 6 : 0.010241, test acc: 0.908600\n",
            "Loss at epoch 7 : 0.010193, test acc: 0.908000\n",
            "Loss at epoch 8 : 0.010093, test acc: 0.908300\n",
            "Loss at epoch 9 : 0.010107, test acc: 0.908200\n",
            "Loss at epoch 10 : 0.010012, test acc: 0.908400\n",
            "Loss at epoch 11 : 0.009913, test acc: 0.908100\n",
            "Loss at epoch 12 : 0.009814, test acc: 0.908100\n",
            "Loss at epoch 13 : 0.009638, test acc: 0.908400\n",
            "Loss at epoch 14 : 0.009567, test acc: 0.908300\n",
            "Loss at epoch 15 : 0.009448, test acc: 0.908300\n",
            "Loss at epoch 16 : 0.009296, test acc: 0.908500\n",
            "Loss at epoch 17 : 0.009217, test acc: 0.908700\n",
            "Loss at epoch 18 : 0.008958, test acc: 0.908400\n",
            "Loss at epoch 19 : 0.008811, test acc: 0.908300\n",
            "Loss at epoch 20 : 0.008685, test acc: 0.908400\n",
            "Loss at epoch 21 : 0.008634, test acc: 0.908300\n",
            "Loss at epoch 22 : 0.008528, test acc: 0.907900\n",
            "Loss at epoch 23 : 0.008274, test acc: 0.908000\n",
            "Loss at epoch 24 : 0.008156, test acc: 0.907500\n",
            "Loss at epoch 25 : 0.008030, test acc: 0.907300\n",
            "Loss at epoch 26 : 0.007870, test acc: 0.907300\n",
            "Loss at epoch 27 : 0.007695, test acc: 0.907200\n",
            "Loss at epoch 28 : 0.007576, test acc: 0.907000\n",
            "Loss at epoch 29 : 0.007419, test acc: 0.906800\n"
          ],
          "name": "stdout"
        }
      ]
    },
    {
      "cell_type": "markdown",
      "metadata": {
        "id": "RhWfFtzflxGK",
        "colab_type": "text"
      },
      "source": [
        "## another model "
      ]
    },
    {
      "cell_type": "code",
      "metadata": {
        "id": "D36stmUOj7YC",
        "colab_type": "code",
        "colab": {}
      },
      "source": [
        "class FashionCNN(nn.Module):\n",
        "    \n",
        "    def __init__(self):\n",
        "        super(FashionCNN, self).__init__()\n",
        "        \n",
        "        self.layer1 = nn.Sequential(\n",
        "            nn.Conv2d(in_channels=1, out_channels=32, kernel_size=3, padding=1),\n",
        "            nn.BatchNorm2d(32),\n",
        "            nn.ReLU(),\n",
        "            nn.MaxPool2d(kernel_size=2, stride=2)\n",
        "        )\n",
        "        \n",
        "        self.layer2 = nn.Sequential(\n",
        "            nn.Conv2d(in_channels=32, out_channels=64, kernel_size=3),\n",
        "            nn.BatchNorm2d(64),\n",
        "            nn.ReLU(),\n",
        "            nn.MaxPool2d(2)\n",
        "        )\n",
        "        \n",
        "        self.fc1 = nn.Linear(in_features=64*6*6, out_features=600)\n",
        "        self.drop = nn.Dropout2d(0.25)\n",
        "        self.fc2 = nn.Linear(in_features=600, out_features=120)\n",
        "        self.fc3 = nn.Linear(in_features=120, out_features=10)\n",
        "        \n",
        "    def forward(self, x):\n",
        "        out = self.layer1(x)\n",
        "        out = self.layer2(out)\n",
        "        out = out.view(out.size(0), -1)\n",
        "        out = self.fc1(out)\n",
        "        out = self.drop(out)\n",
        "        out = self.fc2(out)\n",
        "        out = self.fc3(out)\n",
        "        \n",
        "        return out"
      ],
      "execution_count": 0,
      "outputs": []
    },
    {
      "cell_type": "code",
      "metadata": {
        "id": "vYC1-dSOl_PO",
        "colab_type": "code",
        "outputId": "5ce19d0d-2c4c-4361-f445-f0213d5865e9",
        "colab": {
          "base_uri": "https://localhost:8080/",
          "height": 346
        }
      },
      "source": [
        "newmodel=FashionCNN()\n",
        "newmodel.cuda()"
      ],
      "execution_count": 0,
      "outputs": [
        {
          "output_type": "execute_result",
          "data": {
            "text/plain": [
              "FashionCNN(\n",
              "  (layer1): Sequential(\n",
              "    (0): Conv2d(1, 32, kernel_size=(3, 3), stride=(1, 1), padding=(1, 1))\n",
              "    (1): BatchNorm2d(32, eps=1e-05, momentum=0.1, affine=True, track_running_stats=True)\n",
              "    (2): ReLU()\n",
              "    (3): MaxPool2d(kernel_size=2, stride=2, padding=0, dilation=1, ceil_mode=False)\n",
              "  )\n",
              "  (layer2): Sequential(\n",
              "    (0): Conv2d(32, 64, kernel_size=(3, 3), stride=(1, 1))\n",
              "    (1): BatchNorm2d(64, eps=1e-05, momentum=0.1, affine=True, track_running_stats=True)\n",
              "    (2): ReLU()\n",
              "    (3): MaxPool2d(kernel_size=2, stride=2, padding=0, dilation=1, ceil_mode=False)\n",
              "  )\n",
              "  (fc1): Linear(in_features=2304, out_features=600, bias=True)\n",
              "  (drop): Dropout2d(p=0.25)\n",
              "  (fc2): Linear(in_features=600, out_features=120, bias=True)\n",
              "  (fc3): Linear(in_features=120, out_features=10, bias=True)\n",
              ")"
            ]
          },
          "metadata": {
            "tags": []
          },
          "execution_count": 31
        }
      ]
    },
    {
      "cell_type": "code",
      "metadata": {
        "id": "LnxjdEbvmE7S",
        "colab_type": "code",
        "outputId": "6bdc5120-5bc9-4b19-df5c-a52070568871",
        "colab": {
          "base_uri": "https://localhost:8080/",
          "height": 565
        }
      },
      "source": [
        "train_model(newmodel, x_train.view(-1,1,28,28), y_train, x_test.view(-1,1,28,28), y_test,epochs=30,lr=0.001)"
      ],
      "execution_count": 0,
      "outputs": [
        {
          "output_type": "stream",
          "text": [
            "Loss at epoch 0 : 0.255372, test acc: 0.849100\n",
            "Loss at epoch 1 : 0.204697, test acc: 0.879400\n",
            "Loss at epoch 2 : 0.227691, test acc: 0.891400\n",
            "Loss at epoch 3 : 0.200622, test acc: 0.887000\n",
            "Loss at epoch 4 : 0.196673, test acc: 0.895000\n",
            "Loss at epoch 5 : 0.180228, test acc: 0.893900\n",
            "Loss at epoch 6 : 0.149391, test acc: 0.894500\n",
            "Loss at epoch 7 : 0.135818, test acc: 0.898800\n",
            "Loss at epoch 8 : 0.135960, test acc: 0.898100\n",
            "Loss at epoch 9 : 0.103918, test acc: 0.895900\n",
            "Loss at epoch 10 : 0.095497, test acc: 0.904800\n",
            "Loss at epoch 11 : 0.067835, test acc: 0.906300\n",
            "Loss at epoch 12 : 0.098062, test acc: 0.893000\n",
            "Loss at epoch 13 : 0.037792, test acc: 0.895600\n",
            "Loss at epoch 14 : 0.053417, test acc: 0.900900\n",
            "Loss at epoch 15 : 0.054488, test acc: 0.896000\n",
            "Loss at epoch 16 : 0.032922, test acc: 0.903700\n",
            "Loss at epoch 17 : 0.032892, test acc: 0.904200\n",
            "Loss at epoch 18 : 0.048263, test acc: 0.903900\n",
            "Loss at epoch 19 : 0.038989, test acc: 0.908600\n",
            "Loss at epoch 20 : 0.022890, test acc: 0.909400\n",
            "Loss at epoch 21 : 0.026158, test acc: 0.907800\n",
            "Loss at epoch 22 : 0.015360, test acc: 0.904800\n",
            "Loss at epoch 23 : 0.048382, test acc: 0.902400\n",
            "Loss at epoch 24 : 0.010263, test acc: 0.899500\n",
            "Loss at epoch 25 : 0.012326, test acc: 0.893400\n",
            "Loss at epoch 26 : 0.025975, test acc: 0.892900\n",
            "Loss at epoch 27 : 0.041434, test acc: 0.895900\n",
            "Loss at epoch 28 : 0.012983, test acc: 0.904700\n",
            "Loss at epoch 29 : 0.057024, test acc: 0.897200\n"
          ],
          "name": "stdout"
        }
      ]
    },
    {
      "cell_type": "code",
      "metadata": {
        "id": "jJzCs9BimJpR",
        "colab_type": "code",
        "outputId": "72cdca07-a447-4f8c-e987-84880892f06b",
        "colab": {
          "base_uri": "https://localhost:8080/",
          "height": 1000
        }
      },
      "source": [
        "train_model(newmodel, x_train.view(-1,1,28,28), y_train, x_test.view(-1,1,28,28), y_test,epochs=300,lr=0.0001)"
      ],
      "execution_count": 0,
      "outputs": [
        {
          "output_type": "stream",
          "text": [
            "Loss at epoch 0 : 0.005355, test acc: 0.907900\n",
            "Loss at epoch 1 : 0.008211, test acc: 0.908600\n",
            "Loss at epoch 2 : 0.007290, test acc: 0.909600\n",
            "Loss at epoch 3 : 0.004375, test acc: 0.908300\n",
            "Loss at epoch 4 : 0.003830, test acc: 0.908700\n",
            "Loss at epoch 5 : 0.003673, test acc: 0.908900\n",
            "Loss at epoch 6 : 0.003412, test acc: 0.909200\n",
            "Loss at epoch 7 : 0.002617, test acc: 0.908400\n",
            "Loss at epoch 8 : 0.003572, test acc: 0.907800\n",
            "Loss at epoch 9 : 0.001832, test acc: 0.907600\n",
            "Loss at epoch 10 : 0.001966, test acc: 0.907800\n",
            "Loss at epoch 11 : 0.001723, test acc: 0.908500\n",
            "Loss at epoch 12 : 0.001343, test acc: 0.905500\n",
            "Loss at epoch 13 : 0.000842, test acc: 0.907000\n",
            "Loss at epoch 14 : 0.001365, test acc: 0.908400\n",
            "Loss at epoch 15 : 0.001329, test acc: 0.906800\n",
            "Loss at epoch 16 : 0.000672, test acc: 0.906300\n",
            "Loss at epoch 17 : 0.000666, test acc: 0.907500\n",
            "Loss at epoch 18 : 0.000310, test acc: 0.906500\n",
            "Loss at epoch 19 : 0.000225, test acc: 0.906100\n",
            "Loss at epoch 20 : 0.002236, test acc: 0.905300\n",
            "Loss at epoch 21 : 0.000283, test acc: 0.905700\n",
            "Loss at epoch 22 : 0.000387, test acc: 0.904900\n",
            "Loss at epoch 23 : 0.000229, test acc: 0.906800\n",
            "Loss at epoch 24 : 0.000277, test acc: 0.905900\n",
            "Loss at epoch 25 : 0.001298, test acc: 0.907300\n",
            "Loss at epoch 26 : 0.000165, test acc: 0.905500\n",
            "Loss at epoch 27 : 0.000066, test acc: 0.906900\n",
            "Loss at epoch 28 : 0.000020, test acc: 0.906500\n",
            "Loss at epoch 29 : 0.000188, test acc: 0.905400\n",
            "Loss at epoch 30 : 0.000505, test acc: 0.905800\n",
            "Loss at epoch 31 : 0.000111, test acc: 0.905800\n",
            "Loss at epoch 32 : 0.000552, test acc: 0.904200\n",
            "Loss at epoch 33 : 0.000624, test acc: 0.903800\n",
            "Loss at epoch 34 : 0.000139, test acc: 0.905700\n",
            "Loss at epoch 35 : 0.000859, test acc: 0.902700\n",
            "Loss at epoch 36 : 0.000291, test acc: 0.904600\n",
            "Loss at epoch 37 : 0.000044, test acc: 0.904300\n",
            "Loss at epoch 38 : 0.001837, test acc: 0.902800\n",
            "Loss at epoch 39 : 0.000042, test acc: 0.906100\n",
            "Loss at epoch 40 : 0.000004, test acc: 0.905900\n",
            "Loss at epoch 41 : 0.000059, test acc: 0.905800\n",
            "Loss at epoch 42 : 0.000312, test acc: 0.903700\n",
            "Loss at epoch 43 : 0.000022, test acc: 0.905400\n",
            "Loss at epoch 44 : 0.000047, test acc: 0.904700\n",
            "Loss at epoch 45 : 0.000032, test acc: 0.906500\n",
            "Loss at epoch 46 : 0.000316, test acc: 0.904900\n",
            "Loss at epoch 47 : 0.000003, test acc: 0.906100\n",
            "Loss at epoch 48 : 0.000041, test acc: 0.905100\n",
            "Loss at epoch 49 : 0.000494, test acc: 0.904900\n",
            "Loss at epoch 50 : 0.000054, test acc: 0.905200\n",
            "Loss at epoch 51 : 0.000150, test acc: 0.906400\n",
            "Loss at epoch 52 : 0.000225, test acc: 0.905000\n",
            "Loss at epoch 53 : 0.000392, test acc: 0.907100\n",
            "Loss at epoch 54 : 0.001503, test acc: 0.903300\n",
            "Loss at epoch 55 : 0.000006, test acc: 0.905300\n",
            "Loss at epoch 56 : 0.000026, test acc: 0.904700\n",
            "Loss at epoch 57 : 0.000011, test acc: 0.906300\n",
            "Loss at epoch 58 : 0.000217, test acc: 0.904600\n",
            "Loss at epoch 59 : 0.001348, test acc: 0.903200\n",
            "Loss at epoch 60 : 0.000011, test acc: 0.905500\n",
            "Loss at epoch 61 : 0.000742, test acc: 0.903800\n",
            "Loss at epoch 62 : 0.000006, test acc: 0.905100\n",
            "Loss at epoch 63 : 0.000001, test acc: 0.905200\n",
            "Loss at epoch 64 : 0.000001, test acc: 0.904800\n",
            "Loss at epoch 65 : 0.000000, test acc: 0.906900\n",
            "Loss at epoch 66 : 0.000847, test acc: 0.903800\n",
            "Loss at epoch 67 : 0.000004, test acc: 0.905200\n",
            "Loss at epoch 68 : 0.000001, test acc: 0.907100\n",
            "Loss at epoch 69 : 0.000059, test acc: 0.906400\n",
            "Loss at epoch 70 : 0.000003, test acc: 0.906000\n",
            "Loss at epoch 71 : 0.000000, test acc: 0.907200\n",
            "Loss at epoch 72 : 0.000000, test acc: 0.905400\n",
            "Loss at epoch 73 : 0.000028, test acc: 0.904100\n",
            "Loss at epoch 74 : 0.000000, test acc: 0.907100\n",
            "Loss at epoch 75 : 0.000015, test acc: 0.906500\n",
            "Loss at epoch 76 : 0.000003, test acc: 0.906800\n",
            "Loss at epoch 77 : 0.000036, test acc: 0.908800\n",
            "Loss at epoch 78 : 0.000234, test acc: 0.904800\n",
            "Loss at epoch 79 : 0.000003, test acc: 0.902600\n",
            "Loss at epoch 80 : 0.000005, test acc: 0.904900\n",
            "Loss at epoch 81 : 0.000002, test acc: 0.904700\n",
            "Loss at epoch 82 : 0.000002, test acc: 0.904800\n",
            "Loss at epoch 83 : 0.000002, test acc: 0.906300\n",
            "Loss at epoch 84 : 0.000001, test acc: 0.906100\n",
            "Loss at epoch 85 : 0.000002, test acc: 0.906200\n",
            "Loss at epoch 86 : 0.000012, test acc: 0.905800\n",
            "Loss at epoch 87 : 0.000042, test acc: 0.903900\n",
            "Loss at epoch 88 : 0.000004, test acc: 0.906200\n",
            "Loss at epoch 89 : 0.000011, test acc: 0.906800\n",
            "Loss at epoch 90 : 0.000001, test acc: 0.905400\n",
            "Loss at epoch 91 : 0.000000, test acc: 0.905900\n",
            "Loss at epoch 92 : 0.000004, test acc: 0.902900\n",
            "Loss at epoch 93 : 0.000009, test acc: 0.905200\n",
            "Loss at epoch 94 : 0.000003, test acc: 0.906300\n",
            "Loss at epoch 95 : 0.000013, test acc: 0.907800\n",
            "Loss at epoch 96 : 0.000099, test acc: 0.905700\n",
            "Loss at epoch 97 : 0.000094, test acc: 0.904800\n",
            "Loss at epoch 98 : 0.000139, test acc: 0.905300\n",
            "Loss at epoch 99 : 0.000020, test acc: 0.905300\n",
            "Loss at epoch 100 : 0.000003, test acc: 0.905700\n",
            "Loss at epoch 101 : 0.000050, test acc: 0.905200\n",
            "Loss at epoch 102 : 0.000013, test acc: 0.903700\n",
            "Loss at epoch 103 : 0.000001, test acc: 0.908000\n",
            "Loss at epoch 104 : 0.000001, test acc: 0.907800\n",
            "Loss at epoch 105 : 0.000000, test acc: 0.906300\n",
            "Loss at epoch 106 : 0.000003, test acc: 0.905700\n",
            "Loss at epoch 107 : 0.000008, test acc: 0.906300\n",
            "Loss at epoch 108 : 0.000001, test acc: 0.905300\n",
            "Loss at epoch 109 : 0.000065, test acc: 0.906300\n",
            "Loss at epoch 110 : 0.000002, test acc: 0.906300\n",
            "Loss at epoch 111 : 0.000032, test acc: 0.908200\n",
            "Loss at epoch 112 : 0.000109, test acc: 0.901400\n",
            "Loss at epoch 113 : 0.000002, test acc: 0.904100\n",
            "Loss at epoch 114 : 0.000036, test acc: 0.906600\n",
            "Loss at epoch 115 : 0.000001, test acc: 0.907000\n",
            "Loss at epoch 116 : 0.000000, test acc: 0.906300\n",
            "Loss at epoch 117 : 0.000000, test acc: 0.903100\n",
            "Loss at epoch 118 : 0.025935, test acc: 0.907200\n",
            "Loss at epoch 119 : 0.000024, test acc: 0.905500\n",
            "Loss at epoch 120 : 0.000083, test acc: 0.905400\n",
            "Loss at epoch 121 : 0.000057, test acc: 0.906000\n",
            "Loss at epoch 122 : 0.000004, test acc: 0.905900\n",
            "Loss at epoch 123 : 0.000000, test acc: 0.905900\n",
            "Loss at epoch 124 : 0.000001, test acc: 0.906300\n",
            "Loss at epoch 125 : 0.000005, test acc: 0.904200\n",
            "Loss at epoch 126 : 0.000000, test acc: 0.904600\n",
            "Loss at epoch 127 : 0.000000, test acc: 0.906100\n",
            "Loss at epoch 128 : 0.000000, test acc: 0.905900\n",
            "Loss at epoch 129 : 0.000236, test acc: 0.905300\n",
            "Loss at epoch 130 : 0.000008, test acc: 0.904600\n",
            "Loss at epoch 131 : 0.000008, test acc: 0.905200\n",
            "Loss at epoch 132 : 0.000014, test acc: 0.905400\n",
            "Loss at epoch 133 : 0.000008, test acc: 0.904400\n",
            "Loss at epoch 134 : 0.000002, test acc: 0.906000\n",
            "Loss at epoch 135 : 0.000005, test acc: 0.907300\n",
            "Loss at epoch 136 : 0.000001, test acc: 0.907800\n",
            "Loss at epoch 137 : 0.000005, test acc: 0.906300\n",
            "Loss at epoch 138 : 0.000001, test acc: 0.906400\n",
            "Loss at epoch 139 : 0.000000, test acc: 0.905500\n",
            "Loss at epoch 140 : 0.000028, test acc: 0.906000\n",
            "Loss at epoch 141 : 0.000005, test acc: 0.906800\n",
            "Loss at epoch 142 : 0.000009, test acc: 0.905800\n",
            "Loss at epoch 143 : 0.000000, test acc: 0.906200\n",
            "Loss at epoch 144 : 0.000005, test acc: 0.905700\n",
            "Loss at epoch 145 : 0.000006, test acc: 0.901800\n",
            "Loss at epoch 146 : 0.000000, test acc: 0.906700\n",
            "Loss at epoch 147 : 0.000001, test acc: 0.907300\n",
            "Loss at epoch 148 : 0.000001, test acc: 0.907500\n",
            "Loss at epoch 149 : 0.000000, test acc: 0.906500\n",
            "Loss at epoch 150 : 0.000000, test acc: 0.906500\n",
            "Loss at epoch 151 : 0.000000, test acc: 0.908300\n",
            "Loss at epoch 152 : 0.000001, test acc: 0.906400\n",
            "Loss at epoch 153 : 0.000000, test acc: 0.904300\n",
            "Loss at epoch 154 : 0.000007, test acc: 0.906700\n",
            "Loss at epoch 155 : 0.000003, test acc: 0.906300\n",
            "Loss at epoch 156 : 0.000000, test acc: 0.906300\n",
            "Loss at epoch 157 : 0.001814, test acc: 0.902000\n",
            "Loss at epoch 158 : 0.000045, test acc: 0.904900\n",
            "Loss at epoch 159 : 0.000001, test acc: 0.904600\n",
            "Loss at epoch 160 : 0.000000, test acc: 0.905500\n",
            "Loss at epoch 161 : 0.000003, test acc: 0.906200\n",
            "Loss at epoch 162 : 0.000000, test acc: 0.906900\n",
            "Loss at epoch 163 : 0.000000, test acc: 0.906700\n",
            "Loss at epoch 164 : 0.000000, test acc: 0.907200\n",
            "Loss at epoch 165 : 0.000001, test acc: 0.906000\n",
            "Loss at epoch 166 : 0.000001, test acc: 0.907500\n",
            "Loss at epoch 167 : 0.000000, test acc: 0.908100\n",
            "Loss at epoch 168 : 0.000000, test acc: 0.907000\n",
            "Loss at epoch 169 : 0.000005, test acc: 0.902100\n",
            "Loss at epoch 170 : 0.000234, test acc: 0.906100\n",
            "Loss at epoch 171 : 0.000005, test acc: 0.907600\n",
            "Loss at epoch 172 : 0.000000, test acc: 0.906900\n",
            "Loss at epoch 173 : 0.000001, test acc: 0.905700\n",
            "Loss at epoch 174 : 0.000000, test acc: 0.907300\n",
            "Loss at epoch 175 : 0.000028, test acc: 0.907100\n",
            "Loss at epoch 176 : 0.000001, test acc: 0.907800\n",
            "Loss at epoch 177 : 0.000000, test acc: 0.907600\n",
            "Loss at epoch 178 : 0.000000, test acc: 0.908700\n",
            "Loss at epoch 179 : 0.000001, test acc: 0.907100\n",
            "Loss at epoch 180 : 0.000000, test acc: 0.907100\n",
            "Loss at epoch 181 : 0.000003, test acc: 0.908000\n",
            "Loss at epoch 182 : 0.000000, test acc: 0.907700\n",
            "Loss at epoch 183 : 0.000004, test acc: 0.908200\n",
            "Loss at epoch 184 : 0.000000, test acc: 0.907200\n",
            "Loss at epoch 185 : 0.014623, test acc: 0.901900\n",
            "Loss at epoch 186 : 0.000000, test acc: 0.905700\n",
            "Loss at epoch 187 : 0.000026, test acc: 0.907200\n",
            "Loss at epoch 188 : 0.000038, test acc: 0.907600\n",
            "Loss at epoch 189 : 0.000004, test acc: 0.907200\n",
            "Loss at epoch 190 : 0.000000, test acc: 0.906700\n",
            "Loss at epoch 191 : 0.000002, test acc: 0.908300\n",
            "Loss at epoch 192 : 0.000001, test acc: 0.906700\n",
            "Loss at epoch 193 : 0.000001, test acc: 0.906600\n",
            "Loss at epoch 194 : 0.000002, test acc: 0.907500\n",
            "Loss at epoch 195 : 0.000000, test acc: 0.906100\n",
            "Loss at epoch 196 : 0.000056, test acc: 0.906500\n",
            "Loss at epoch 197 : 0.000007, test acc: 0.905600\n",
            "Loss at epoch 198 : 0.002274, test acc: 0.906100\n",
            "Loss at epoch 199 : 0.000001, test acc: 0.906000\n",
            "Loss at epoch 200 : 0.000003, test acc: 0.906100\n",
            "Loss at epoch 201 : 0.000002, test acc: 0.906200\n",
            "Loss at epoch 202 : 0.000000, test acc: 0.906100\n",
            "Loss at epoch 203 : 0.000001, test acc: 0.905500\n",
            "Loss at epoch 204 : 0.000001, test acc: 0.906600\n",
            "Loss at epoch 205 : 0.000000, test acc: 0.905700\n",
            "Loss at epoch 206 : 0.000033, test acc: 0.904800\n",
            "Loss at epoch 207 : 0.000000, test acc: 0.907300\n",
            "Loss at epoch 208 : 0.000000, test acc: 0.906300\n",
            "Loss at epoch 209 : 0.000000, test acc: 0.907800\n",
            "Loss at epoch 210 : 0.000000, test acc: 0.908200\n",
            "Loss at epoch 211 : 0.000000, test acc: 0.906400\n",
            "Loss at epoch 212 : 0.000004, test acc: 0.908700\n",
            "Loss at epoch 213 : 0.000006, test acc: 0.904300\n",
            "Loss at epoch 214 : 0.000036, test acc: 0.906500\n",
            "Loss at epoch 215 : 0.000057, test acc: 0.903800\n",
            "Loss at epoch 216 : 0.000001, test acc: 0.908000\n",
            "Loss at epoch 217 : 0.000327, test acc: 0.906000\n",
            "Loss at epoch 218 : 0.000002, test acc: 0.905200\n",
            "Loss at epoch 219 : 0.000003, test acc: 0.905200\n",
            "Loss at epoch 220 : 0.000000, test acc: 0.904700\n",
            "Loss at epoch 221 : 0.000001, test acc: 0.906000\n",
            "Loss at epoch 222 : 0.000000, test acc: 0.905700\n",
            "Loss at epoch 223 : 0.000000, test acc: 0.906300\n",
            "Loss at epoch 224 : 0.000000, test acc: 0.908400\n",
            "Loss at epoch 225 : 0.000002, test acc: 0.906900\n",
            "Loss at epoch 226 : 0.000001, test acc: 0.907500\n",
            "Loss at epoch 227 : 0.000000, test acc: 0.908100\n",
            "Loss at epoch 228 : 0.000000, test acc: 0.907400\n",
            "Loss at epoch 229 : 0.000000, test acc: 0.905300\n",
            "Loss at epoch 230 : 0.000362, test acc: 0.904500\n",
            "Loss at epoch 231 : 0.000028, test acc: 0.904400\n",
            "Loss at epoch 232 : 0.000155, test acc: 0.906200\n",
            "Loss at epoch 233 : 0.000002, test acc: 0.906100\n",
            "Loss at epoch 234 : 0.000001, test acc: 0.908100\n",
            "Loss at epoch 235 : 0.000352, test acc: 0.906000\n",
            "Loss at epoch 236 : 0.000063, test acc: 0.908000\n",
            "Loss at epoch 237 : 0.000002, test acc: 0.907400\n",
            "Loss at epoch 238 : 0.000001, test acc: 0.908300\n",
            "Loss at epoch 239 : 0.000001, test acc: 0.907500\n",
            "Loss at epoch 240 : 0.000010, test acc: 0.908100\n",
            "Loss at epoch 241 : 0.000251, test acc: 0.903800\n",
            "Loss at epoch 242 : 0.000004, test acc: 0.906200\n",
            "Loss at epoch 243 : 0.000004, test acc: 0.905100\n",
            "Loss at epoch 244 : 0.000672, test acc: 0.906200\n",
            "Loss at epoch 245 : 0.000003, test acc: 0.905200\n",
            "Loss at epoch 246 : 0.000015, test acc: 0.906500\n",
            "Loss at epoch 247 : 0.000012, test acc: 0.905300\n",
            "Loss at epoch 248 : 0.000061, test acc: 0.906400\n",
            "Loss at epoch 249 : 0.000001, test acc: 0.906900\n",
            "Loss at epoch 250 : 0.000005, test acc: 0.907300\n",
            "Loss at epoch 251 : 0.000446, test acc: 0.905200\n",
            "Loss at epoch 252 : 0.000014, test acc: 0.906800\n",
            "Loss at epoch 253 : 0.000006, test acc: 0.906600\n",
            "Loss at epoch 254 : 0.000175, test acc: 0.902200\n",
            "Loss at epoch 255 : 0.000326, test acc: 0.902900\n",
            "Loss at epoch 256 : 0.000001, test acc: 0.906600\n",
            "Loss at epoch 257 : 0.000033, test acc: 0.907000\n",
            "Loss at epoch 258 : 0.000000, test acc: 0.904700\n",
            "Loss at epoch 259 : 0.000000, test acc: 0.906400\n",
            "Loss at epoch 260 : 0.006798, test acc: 0.905100\n",
            "Loss at epoch 261 : 0.000000, test acc: 0.905800\n",
            "Loss at epoch 262 : 0.000000, test acc: 0.906100\n",
            "Loss at epoch 263 : 0.000000, test acc: 0.905100\n",
            "Loss at epoch 264 : 0.000001, test acc: 0.906200\n",
            "Loss at epoch 265 : 0.000004, test acc: 0.907100\n",
            "Loss at epoch 266 : 0.000001, test acc: 0.906100\n",
            "Loss at epoch 267 : 0.000955, test acc: 0.906100\n",
            "Loss at epoch 268 : 0.000000, test acc: 0.907600\n",
            "Loss at epoch 269 : 0.000001, test acc: 0.905300\n",
            "Loss at epoch 270 : 0.000001, test acc: 0.906600\n",
            "Loss at epoch 271 : 0.000001, test acc: 0.904300\n",
            "Loss at epoch 272 : 0.000001, test acc: 0.905400\n",
            "Loss at epoch 273 : 0.000000, test acc: 0.906400\n",
            "Loss at epoch 274 : 0.065495, test acc: 0.904900\n",
            "Loss at epoch 275 : 0.000011, test acc: 0.903700\n",
            "Loss at epoch 276 : 0.000001, test acc: 0.904200\n",
            "Loss at epoch 277 : 0.000000, test acc: 0.906600\n",
            "Loss at epoch 278 : 0.000000, test acc: 0.905200\n",
            "Loss at epoch 279 : 0.000001, test acc: 0.905200\n",
            "Loss at epoch 280 : 0.000000, test acc: 0.906200\n",
            "Loss at epoch 281 : 0.000000, test acc: 0.906500\n",
            "Loss at epoch 282 : 0.000000, test acc: 0.906000\n",
            "Loss at epoch 283 : 0.000000, test acc: 0.907200\n",
            "Loss at epoch 284 : 0.000000, test acc: 0.905400\n",
            "Loss at epoch 285 : 0.000000, test acc: 0.905600\n",
            "Loss at epoch 286 : 0.000005, test acc: 0.903500\n",
            "Loss at epoch 287 : 0.000001, test acc: 0.904500\n",
            "Loss at epoch 288 : 0.000000, test acc: 0.906300\n",
            "Loss at epoch 289 : 0.000000, test acc: 0.905200\n",
            "Loss at epoch 290 : 0.000000, test acc: 0.904500\n",
            "Loss at epoch 291 : 0.000000, test acc: 0.907100\n",
            "Loss at epoch 292 : 0.000000, test acc: 0.906700\n",
            "Loss at epoch 293 : 0.000005, test acc: 0.904400\n",
            "Loss at epoch 294 : 0.000000, test acc: 0.905300\n",
            "Loss at epoch 295 : 0.000000, test acc: 0.908200\n",
            "Loss at epoch 296 : 0.000000, test acc: 0.906600\n",
            "Loss at epoch 297 : 0.000000, test acc: 0.906900\n",
            "Loss at epoch 298 : 0.000001, test acc: 0.905800\n",
            "Loss at epoch 299 : 0.000000, test acc: 0.905500\n"
          ],
          "name": "stdout"
        }
      ]
    },
    {
      "cell_type": "code",
      "metadata": {
        "id": "XGxBYPq-mcXB",
        "colab_type": "code",
        "colab": {}
      },
      "source": [
        ""
      ],
      "execution_count": 0,
      "outputs": []
    }
  ]
}