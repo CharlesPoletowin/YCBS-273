{
  "nbformat": 4,
  "nbformat_minor": 0,
  "metadata": {
    "colab": {
      "name": "Lecture7_RNN_intro.ipynb",
      "version": "0.3.2",
      "provenance": [],
      "collapsed_sections": [],
      "include_colab_link": true
    },
    "kernelspec": {
      "name": "python3",
      "display_name": "Python 3"
    },
    "accelerator": "GPU"
  },
  "cells": [
    {
      "cell_type": "markdown",
      "metadata": {
        "id": "view-in-github",
        "colab_type": "text"
      },
      "source": [
        "<a href=\"https://colab.research.google.com/github/CharlesPoletowin/YCBS-273/blob/master/Lecture7_RNN_intro.ipynb\" target=\"_parent\"><img src=\"https://colab.research.google.com/assets/colab-badge.svg\" alt=\"Open In Colab\"/></a>"
      ]
    },
    {
      "cell_type": "code",
      "metadata": {
        "id": "5qDYUEPIuI3B",
        "colab_type": "code",
        "colab": {}
      },
      "source": [
        "import time\n",
        "from sklearn.metrics import accuracy_score"
      ],
      "execution_count": 0,
      "outputs": []
    },
    {
      "cell_type": "markdown",
      "metadata": {
        "id": "_jzBXYR_NsHI",
        "colab_type": "text"
      },
      "source": [
        "This notebook was inspired from https://github.com/bentrevett/pytorch-sentiment-analysis. Great thanks to the authors!"
      ]
    },
    {
      "cell_type": "markdown",
      "metadata": {
        "id": "dHSV6fToMlag",
        "colab_type": "text"
      },
      "source": [
        "# Data setup"
      ]
    },
    {
      "cell_type": "code",
      "metadata": {
        "id": "K8I26QBRfzXc",
        "colab_type": "code",
        "colab": {}
      },
      "source": [
        "import torch\n",
        "from torch.utils.data import TensorDataset\n",
        "from torch.utils.data import DataLoader\n",
        "\n",
        "def get_data(seq_len, inp_dim, device, data_size=25000):\n",
        "\n",
        "  data = torch.randint(low=0, high=inp_dim, size=(data_size, seq_len), out=None, device=device)\n",
        "  labels = torch.abs(data[:, 0])\n",
        "\n",
        "  train_data = TensorDataset(data[:int(0.7*data_size)], labels[:int(0.7*data_size)])\n",
        "  valid_data = TensorDataset(data[int(0.7*data_size): int(0.85*data_size)], labels[int(0.7*data_size): int(0.85*data_size)])\n",
        "  test_data = TensorDataset(data[int(0.85*data_size): int(data_size)],  labels[int(0.85*data_size): int(data_size)])\n",
        "\n",
        "  train_data_loader = DataLoader(train_data, batch_size=64)\n",
        "  valid_data_loader = DataLoader(valid_data, batch_size=64)\n",
        "  test_data_loader = DataLoader(test_data, batch_size=64)\n",
        "  \n",
        "  return train_data_loader, valid_data_loader, test_data_loader"
      ],
      "execution_count": 0,
      "outputs": []
    },
    {
      "cell_type": "markdown",
      "metadata": {
        "id": "lLylZTouMw28",
        "colab_type": "text"
      },
      "source": [
        "# Model definition"
      ]
    },
    {
      "cell_type": "code",
      "metadata": {
        "id": "HHQMm0uOOiuT",
        "colab_type": "code",
        "colab": {}
      },
      "source": [
        "import torch.nn as nn\n",
        "\n",
        "class RNN(nn.Module):\n",
        "    def __init__(self, input_dim, embedding_dim, hidden_dim, output_dim):\n",
        "        \n",
        "        super().__init__()\n",
        "        \n",
        "        self.embedding = nn.Embedding(input_dim, embedding_dim)\n",
        "        \n",
        "        self.rnn = nn.RNN(embedding_dim, hidden_dim)\n",
        "        \n",
        "        self.fc = nn.Linear(hidden_dim, output_dim)\n",
        "        \n",
        "    def forward(self, text):\n",
        "\n",
        "        #text = [seq len, batch size]\n",
        "        \n",
        "        embedded = self.embedding(text)\n",
        "        \n",
        "        #embedded = [seq len, batch size, emb dim]\n",
        "        \n",
        "        output, hidden = self.rnn(embedded)\n",
        "        \n",
        "        #output = [seq len, batch size, hid dim]\n",
        "        #hidden = [1, batch size, hid dim]\n",
        "        \n",
        "        assert torch.equal(output[-1,:,:], hidden.squeeze(0))\n",
        "        \n",
        "        \n",
        "        \n",
        "        return self.fc(hidden.squeeze(0))"
      ],
      "execution_count": 0,
      "outputs": []
    },
    {
      "cell_type": "code",
      "metadata": {
        "id": "RJylOoc-Oizo",
        "colab_type": "code",
        "colab": {}
      },
      "source": [
        "def count_parameters(model):\n",
        "    return sum(p.numel() for p in model.parameters() if p.requires_grad)"
      ],
      "execution_count": 0,
      "outputs": []
    },
    {
      "cell_type": "markdown",
      "metadata": {
        "id": "rGLif-mjMy6g",
        "colab_type": "text"
      },
      "source": [
        "# Loss function"
      ]
    },
    {
      "cell_type": "code",
      "metadata": {
        "id": "shV9V5BZc9hL",
        "colab_type": "code",
        "colab": {}
      },
      "source": [
        "import torch.nn.functional as F\n",
        "\n",
        "loss_func = F.cross_entropy"
      ],
      "execution_count": 0,
      "outputs": []
    },
    {
      "cell_type": "markdown",
      "metadata": {
        "id": "wRtlE884OvhE",
        "colab_type": "text"
      },
      "source": [
        "# Optimizer"
      ]
    },
    {
      "cell_type": "code",
      "metadata": {
        "id": "9rdC1GKQdq-O",
        "colab_type": "code",
        "colab": {}
      },
      "source": [
        "import torch.optim as optim"
      ],
      "execution_count": 0,
      "outputs": []
    },
    {
      "cell_type": "code",
      "metadata": {
        "id": "dQireMwHiKnG",
        "colab_type": "code",
        "colab": {}
      },
      "source": [
        "def evaluate(model, data_iterator, loss_func):\n",
        "    \n",
        "    epoch_loss = 0\n",
        "    epoch_acc = 0\n",
        "    \n",
        "    model.eval()\n",
        "    \n",
        "    with torch.no_grad():\n",
        "    \n",
        "        for inp, label in data_iterator:\n",
        "\n",
        "            predictions = model(inp.t()).squeeze(1)\n",
        "            \n",
        "            loss = loss_func(predictions, label)\n",
        "            \n",
        "            acc = accuracy_score(torch.argmax(predictions, dim=1).cpu().detach().numpy(), label.cpu().numpy())\n",
        "\n",
        "            epoch_loss += loss.item()\n",
        "            epoch_acc += acc\n",
        "        \n",
        "    return epoch_acc / len(data_iterator), epoch_loss / len(data_iterator)"
      ],
      "execution_count": 0,
      "outputs": []
    },
    {
      "cell_type": "markdown",
      "metadata": {
        "id": "jp_Js8qTM-rB",
        "colab_type": "text"
      },
      "source": [
        "# Training"
      ]
    },
    {
      "cell_type": "code",
      "metadata": {
        "id": "YUk-y9LGPIoT",
        "colab_type": "code",
        "colab": {}
      },
      "source": [
        "def train_model(model, train_data, valid_data, loss_func, optimizer, epochs=5):\n",
        "\n",
        "  for epoch in range(epochs):\n",
        "    \n",
        "    model.train()\n",
        "    epoch_loss = 0\n",
        "    epoch_acc = 0\n",
        "    \n",
        "    tic = time.time()\n",
        "    for inp, label in train_data:\n",
        "      \n",
        "      predictions = model(inp.t()).squeeze(1)\n",
        "      loss = loss_func(predictions, label)\n",
        "      loss.backward()\n",
        "      optimizer.step()\n",
        "      optimizer.zero_grad()\n",
        "\n",
        "      epoch_loss += loss.item()\n",
        "      \n",
        "    toc = time.time()\n",
        "    \n",
        "    train_acc, _ = evaluate(model, train_data, loss_func)\n",
        "    acc, _ = evaluate(model, valid_data, loss_func)\n",
        "    toe = time.time()\n",
        "    print(len(train_data))\n",
        "    print('Loss at epoch %d : %f, train acc : %f, valid acc : %f | train time : %d sec, eval time : %d sec' % (epoch, epoch_loss / len(train_data), train_acc, acc, toc-tic, toe - toc))"
      ],
      "execution_count": 0,
      "outputs": []
    },
    {
      "cell_type": "code",
      "metadata": {
        "id": "seh51auaVjob",
        "colab_type": "code",
        "outputId": "3c507559-5a08-4694-d972-ac0a3f52a7cd",
        "colab": {
          "base_uri": "https://localhost:8080/",
          "height": 583
        }
      },
      "source": [
        "SEQ_LEN = 10\n",
        "INPUT_DIM = 50\n",
        "OUTPUT_DIM = INPUT_DIM\n",
        "\n",
        "EMBEDDING_DIM = 32\n",
        "HIDDEN_DIM = 256\n",
        "\n",
        "N_LAYERS = 1\n",
        "BIDIRECTIONAL = False\n",
        "DROPOUT = 0\n",
        "\n",
        "device = torch.device('cuda' if torch.cuda.is_available() else 'cpu')\n",
        "\n",
        "train_data_loader, valid_data_loader, test_data_loader = get_data(SEQ_LEN, INPUT_DIM, device=device, data_size=100000)\n",
        "model = RNN(INPUT_DIM, EMBEDDING_DIM, HIDDEN_DIM, OUTPUT_DIM) #, N_LAYERS, BIDIRECTIONAL, DROPOUT)\n",
        "model = model.to(device)\n",
        "\n",
        "optimizer = optim.Adam(model.parameters(), weight_decay=0.00001)\n",
        "\n",
        "print(f'The model has {count_parameters(model):,} trainable parameters')\n",
        "\n",
        "train_model(model, train_data_loader, valid_data_loader, loss_func, optimizer, epochs=15)"
      ],
      "execution_count": 0,
      "outputs": [
        {
          "output_type": "stream",
          "text": [
            "The model has 88,690 trainable parameters\n",
            "1094\n",
            "Loss at epoch 0 : 0.448821, train acc : 1.000000, valid acc : 1.000000 | train time : 4 sec, eval time : 2 sec\n",
            "1094\n",
            "Loss at epoch 1 : 0.001877, train acc : 1.000000, valid acc : 1.000000 | train time : 4 sec, eval time : 2 sec\n",
            "1094\n",
            "Loss at epoch 2 : 0.000670, train acc : 1.000000, valid acc : 1.000000 | train time : 4 sec, eval time : 2 sec\n",
            "1094\n",
            "Loss at epoch 3 : 0.000333, train acc : 1.000000, valid acc : 1.000000 | train time : 4 sec, eval time : 2 sec\n",
            "1094\n",
            "Loss at epoch 4 : 0.032066, train acc : 0.999986, valid acc : 1.000000 | train time : 4 sec, eval time : 2 sec\n",
            "1094\n",
            "Loss at epoch 5 : 0.003594, train acc : 1.000000, valid acc : 1.000000 | train time : 4 sec, eval time : 2 sec\n",
            "1094\n",
            "Loss at epoch 6 : 0.000300, train acc : 1.000000, valid acc : 1.000000 | train time : 4 sec, eval time : 2 sec\n",
            "1094\n",
            "Loss at epoch 7 : 0.000162, train acc : 1.000000, valid acc : 1.000000 | train time : 4 sec, eval time : 2 sec\n",
            "1094\n",
            "Loss at epoch 8 : 0.000113, train acc : 1.000000, valid acc : 1.000000 | train time : 4 sec, eval time : 2 sec\n",
            "1094\n",
            "Loss at epoch 9 : 0.000094, train acc : 1.000000, valid acc : 1.000000 | train time : 4 sec, eval time : 2 sec\n",
            "1094\n",
            "Loss at epoch 10 : 0.027022, train acc : 0.999871, valid acc : 0.999867 | train time : 4 sec, eval time : 2 sec\n",
            "1094\n",
            "Loss at epoch 11 : 0.000511, train acc : 1.000000, valid acc : 1.000000 | train time : 4 sec, eval time : 2 sec\n",
            "1094\n",
            "Loss at epoch 12 : 0.000166, train acc : 1.000000, valid acc : 1.000000 | train time : 4 sec, eval time : 2 sec\n",
            "1094\n",
            "Loss at epoch 13 : 0.000109, train acc : 1.000000, valid acc : 1.000000 | train time : 4 sec, eval time : 2 sec\n",
            "1094\n",
            "Loss at epoch 14 : 0.000083, train acc : 1.000000, valid acc : 1.000000 | train time : 5 sec, eval time : 2 sec\n"
          ],
          "name": "stdout"
        }
      ]
    },
    {
      "cell_type": "code",
      "metadata": {
        "id": "u4Fw2cjgFKpv",
        "colab_type": "code",
        "colab": {}
      },
      "source": [
        ""
      ],
      "execution_count": 0,
      "outputs": []
    }
  ]
}