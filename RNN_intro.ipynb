{
  "nbformat": 4,
  "nbformat_minor": 0,
  "metadata": {
    "colab": {
      "name": "RNN_intro.ipynb",
      "version": "0.3.2",
      "provenance": [],
      "collapsed_sections": [],
      "include_colab_link": true
    },
    "kernelspec": {
      "name": "python3",
      "display_name": "Python 3"
    },
    "accelerator": "GPU"
  },
  "cells": [
    {
      "cell_type": "markdown",
      "metadata": {
        "id": "view-in-github",
        "colab_type": "text"
      },
      "source": [
        "<a href=\"https://colab.research.google.com/github/CharlesPoletowin/YCBS-273/blob/master/RNN_intro.ipynb\" target=\"_parent\"><img src=\"https://colab.research.google.com/assets/colab-badge.svg\" alt=\"Open In Colab\"/></a>"
      ]
    },
    {
      "cell_type": "code",
      "metadata": {
        "id": "5qDYUEPIuI3B",
        "colab_type": "code",
        "colab": {}
      },
      "source": [
        "import time\n",
        "from sklearn.metrics import accuracy_score"
      ],
      "execution_count": 0,
      "outputs": []
    },
    {
      "cell_type": "markdown",
      "metadata": {
        "id": "_jzBXYR_NsHI",
        "colab_type": "text"
      },
      "source": [
        "This notebook was inspired from https://github.com/bentrevett/pytorch-sentiment-analysis. Great thanks to the authors!"
      ]
    },
    {
      "cell_type": "markdown",
      "metadata": {
        "id": "dHSV6fToMlag",
        "colab_type": "text"
      },
      "source": [
        "# Data setup"
      ]
    },
    {
      "cell_type": "code",
      "metadata": {
        "id": "K8I26QBRfzXc",
        "colab_type": "code",
        "colab": {}
      },
      "source": [
        "import torch\n",
        "from torch.utils.data import TensorDataset\n",
        "from torch.utils.data import DataLoader\n",
        "\n",
        "def get_data(seq_len, inp_dim, device, data_size=25000):\n",
        "\n",
        "  data = torch.randint(low=0, high=inp_dim, size=(data_size, seq_len), out=None, device=device)\n",
        "  labels = torch.abs(data[:, 0])\n",
        "\n",
        "  train_data = TensorDataset(data[:int(0.7*data_size)], labels[:int(0.7*data_size)])\n",
        "  valid_data = TensorDataset(data[int(0.7*data_size): int(0.85*data_size)], labels[int(0.7*data_size): int(0.85*data_size)])\n",
        "  test_data = TensorDataset(data[int(0.85*data_size): int(data_size)],  labels[int(0.85*data_size): int(data_size)])\n",
        "\n",
        "  train_data_loader = DataLoader(train_data, batch_size=64)\n",
        "  valid_data_loader = DataLoader(valid_data, batch_size=64)\n",
        "  test_data_loader = DataLoader(test_data, batch_size=64)\n",
        "  \n",
        "  return train_data_loader, valid_data_loader, test_data_loader"
      ],
      "execution_count": 0,
      "outputs": []
    },
    {
      "cell_type": "markdown",
      "metadata": {
        "id": "lLylZTouMw28",
        "colab_type": "text"
      },
      "source": [
        "# Model definition"
      ]
    },
    {
      "cell_type": "code",
      "metadata": {
        "id": "HHQMm0uOOiuT",
        "colab_type": "code",
        "colab": {}
      },
      "source": [
        "import torch.nn as nn\n",
        "\n",
        "class RNN(nn.Module):\n",
        "    def __init__(self, input_dim, embedding_dim, hidden_dim, output_dim):\n",
        "        \n",
        "        super().__init__()\n",
        "        \n",
        "        self.embedding = nn.Embedding(input_dim, embedding_dim)\n",
        "        \n",
        "        self.rnn = nn.RNN(embedding_dim, hidden_dim)\n",
        "        \n",
        "        self.fc = nn.Linear(hidden_dim, output_dim)\n",
        "        \n",
        "    def forward(self, inp):\n",
        "\n",
        "        #inp = [seq len, batch size]\n",
        "        \n",
        "        embedded = self.embedding(inp)\n",
        "        \n",
        "        #embedded = [seq len, batch size, emb dim]\n",
        "        \n",
        "        output, hidden = self.rnn(embedded)\n",
        "        \n",
        "        #output = [seq len, batch size, hid dim]\n",
        "        #hidden = [1, batch size, hid dim]\n",
        "        \n",
        "        print(hidden.shape)\n",
        "        \n",
        "        return self.fc(hidden[0])\n",
        "\n",
        "class RNN_deep(nn.Module):\n",
        "    def __init__(self, input_dim, embedding_dim, hidden_dim, output_dim, n_layers=2):\n",
        "        \n",
        "        super().__init__()\n",
        "        \n",
        "        self.embedding = nn.Embedding(input_dim, embedding_dim)\n",
        "        \n",
        "        self.rnn = nn.RNN(embedding_dim, hidden_dim, num_layers=n_layers)\n",
        "        \n",
        "        self.fc = nn.Linear(hidden_dim, output_dim)\n",
        "        \n",
        "    def forward(self, inp):\n",
        "\n",
        "        #inp = [seq len, batch size]\n",
        "        \n",
        "        embedded = self.embedding(inp)\n",
        "        \n",
        "        #embedded = [seq len, batch size, emb dim]\n",
        "        \n",
        "        output, hidden = self.rnn(embedded)\n",
        "        \n",
        "        #output = [seq len, batch size, hid dim]\n",
        "        #hidden = [num_layers, batch size, hid dim]\n",
        "        \n",
        "        print(hidden.shape)\n",
        "        hidden=hidden.view(hidden.shape[1],hidden.shape[0]*hidden.shape[2])\n",
        "        print(hidden.shape)\n",
        "        \n",
        "        return self.fc(hidden[-1])\n",
        "\n",
        "class RNN_deep_bidir(nn.Module):\n",
        "    def __init__(self, input_dim, embedding_dim, hidden_dim, output_dim, n_layers=1):\n",
        "        \n",
        "        super().__init__()\n",
        "        \n",
        "        self.embedding = nn.Embedding(input_dim, embedding_dim)\n",
        "        \n",
        "        self.rnn = nn.RNN(embedding_dim, hidden_dim, \n",
        "                           num_layers=n_layers,\n",
        "                           bidirectional=True)\n",
        "        \n",
        "        self.fc = nn.Linear(2 * hidden_dim, output_dim)\n",
        "        \n",
        "    def forward(self, text):#, text_lengths):\n",
        "\n",
        "        #text = [sent len, batch size]\n",
        "        \n",
        "        embedded = self.embedding(text)\n",
        "        \n",
        "        #embedded = [sent len, batch size, emb dim]\n",
        "        \n",
        "        output, hidden = self.rnn(embedded)\n",
        "                \n",
        "        #output = [sent len, batch size, hid dim * num directions]\n",
        "        \n",
        "        #hidden = [num layers * num directions, batch size, hid dim]\n",
        "        #cell = [num layers * num directions, batch size, hid dim]\n",
        "        \n",
        "        #concat the final forward (hidden[-2,:,:]) and backward (hidden[-1,:,:]) hidden layers\n",
        "        print(hidden.shape)\n",
        "\n",
        "        hidden=torch.cat((hidden[-2,:,:],hidden[-1,:,:]),dim=1)\n",
        "\n",
        "        print(hidden.shape)\n",
        "        \n",
        "        return self.fc(hidden)\n",
        "\n",
        "class LSTM(nn.Module):\n",
        "    def __init__(self, input_dim, embedding_dim, hidden_dim, output_dim):\n",
        "        \n",
        "        super().__init__()\n",
        "        \n",
        "        self.embedding = nn.Embedding(input_dim, embedding_dim)\n",
        "        \n",
        "        self.lstm = nn.LSTM(embedding_dim, hidden_dim)\n",
        "        \n",
        "        self.fc = nn.Linear(hidden_dim, output_dim)\n",
        "        \n",
        "    def forward(self, inp):\n",
        "\n",
        "        #inp = [seq len, batch size]\n",
        "        \n",
        "        embedded = self.embedding(inp)\n",
        "        \n",
        "        #embedded = [seq len, batch size, emb dim]\n",
        "        \n",
        "        output, (hidden, cell_state) = self.lstm(embedded)\n",
        "        \n",
        "        #output = [seq len, batch size, hid dim]\n",
        "        #hidden = [1, batch size, hid dim]\n",
        "        \n",
        "        return self.fc(hidden.squeeze(0))\n",
        "\n",
        "def count_parameters(model):\n",
        "    return sum(p.numel() for p in model.parameters() if p.requires_grad)"
      ],
      "execution_count": 0,
      "outputs": []
    },
    {
      "cell_type": "code",
      "metadata": {
        "id": "dQireMwHiKnG",
        "colab_type": "code",
        "colab": {}
      },
      "source": [
        "def evaluate(model, data_iterator, loss_func):\n",
        "    \n",
        "    epoch_loss = 0\n",
        "    epoch_acc = 0\n",
        "    \n",
        "    model.eval()\n",
        "    \n",
        "    with torch.no_grad():\n",
        "    \n",
        "        for inp, label in data_iterator:\n",
        "\n",
        "            predictions = model(inp.t()).squeeze(1)\n",
        "            \n",
        "            loss = loss_func(predictions, label)\n",
        "            \n",
        "            acc = accuracy_score(torch.argmax(predictions, dim=1).cpu().detach().numpy(), label.cpu().numpy())\n",
        "\n",
        "            epoch_loss += loss.item()\n",
        "            epoch_acc += acc\n",
        "        \n",
        "    return epoch_acc / len(data_iterator), epoch_loss / len(data_iterator)\n",
        "\n",
        "def train_model(model, train_data, valid_data, loss_func, optimizer, epochs=5):\n",
        "\n",
        "  for epoch in range(epochs):\n",
        "    \n",
        "    model.train()\n",
        "    epoch_loss = 0\n",
        "    epoch_acc = 0\n",
        "    \n",
        "    tic = time.time()\n",
        "    for inp, label in train_data:\n",
        "      predictions = model(inp.t()).squeeze(1)\n",
        "      loss = loss_func(predictions, label)\n",
        "      loss.backward()\n",
        "      optimizer.step()\n",
        "      optimizer.zero_grad()\n",
        "\n",
        "      epoch_loss += loss.item()\n",
        "\n",
        "      break\n",
        "      \n",
        "    toc = time.time()\n",
        "    \n",
        "#     train_acc, _ = evaluate(model, train_data, loss_func)\n",
        "#     acc, _ = evaluate(model, valid_data, loss_func)\n",
        "#     toe = time.time()\n",
        "#     print('Loss at epoch %d : %f, train acc : %f, valid acc : %f | train time : %d sec, eval time : %d sec' % (epoch, epoch_loss / len(train_data), train_acc, acc, toc-tic, toe - toc))"
      ],
      "execution_count": 0,
      "outputs": []
    },
    {
      "cell_type": "code",
      "metadata": {
        "id": "seh51auaVjob",
        "colab_type": "code",
        "outputId": "11009814-a630-46e1-dcf0-12ec9c4430e8",
        "colab": {
          "base_uri": "https://localhost:8080/",
          "height": 72
        }
      },
      "source": [
        "import torch.nn.functional as F\n",
        "import torch.optim as optim\n",
        "\n",
        "\n",
        "SEQ_LEN = 20\n",
        "INPUT_DIM = 50\n",
        "OUTPUT_DIM = INPUT_DIM\n",
        "\n",
        "EMBEDDING_DIM = 64\n",
        "HIDDEN_DIM = 256\n",
        "\n",
        "N_LAYERS = 1\n",
        "\n",
        "device = torch.device('cuda' if torch.cuda.is_available() else 'cpu')\n",
        "\n",
        "train_data_loader, valid_data_loader, test_data_loader = get_data(SEQ_LEN, INPUT_DIM, device=device, data_size=100000)\n",
        "# model = RNN(INPUT_DIM, EMBEDDING_DIM, HIDDEN_DIM, OUTPUT_DIM)\n",
        "# model = RNN_deep(INPUT_DIM, EMBEDDING_DIM, HIDDEN_DIM, OUTPUT_DIM, N_LAYERS)\n",
        "model = RNN_deep_bidir(INPUT_DIM, EMBEDDING_DIM, HIDDEN_DIM, OUTPUT_DIM, N_LAYERS)\n",
        "model = model.to(device)\n",
        "\n",
        "loss_func = F.cross_entropy\n",
        "optimizer = optim.Adam(model.parameters(), weight_decay=0.00001)\n",
        "\n",
        "print(f'The model has {count_parameters(model):,} trainable parameters')\n",
        "\n",
        "train_model(model, train_data_loader, valid_data_loader, loss_func, optimizer, epochs=1)"
      ],
      "execution_count": 0,
      "outputs": [
        {
          "output_type": "stream",
          "text": [
            "The model has 193,714 trainable parameters\n",
            "torch.Size([2, 64, 256])\n",
            "torch.Size([64, 512])\n"
          ],
          "name": "stdout"
        }
      ]
    },
    {
      "cell_type": "code",
      "metadata": {
        "id": "u4Fw2cjgFKpv",
        "colab_type": "code",
        "colab": {}
      },
      "source": [
        ""
      ],
      "execution_count": 0,
      "outputs": []
    }
  ]
}